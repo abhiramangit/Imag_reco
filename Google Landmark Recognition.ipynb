{
 "cells": [
  {
   "cell_type": "code",
   "execution_count": 4,
   "metadata": {},
   "outputs": [],
   "source": [
    "import pandas as pd \n",
    "import numpy as np\n",
    "import csv\n",
    "\n",
    "\n",
    "## to store training and testing data in data frames \n",
    "train_df = pd.read_csv(r\"D:\\Image-Recoginition-Activity2\\train.csv\")\n",
    "test_df = pd.read_csv(r\"D:\\Image-Recoginition-Activity2\\test.csv\")\n",
    "\n",
    "#print(train_df.head())"
   ]
  },
  {
   "cell_type": "code",
   "execution_count": 5,
   "metadata": {},
   "outputs": [],
   "source": [
    "## Number of top most frequent landmark_ids\n",
    "rank_number = 101\n",
    "\n",
    "## Fraction of images from each landmark-id\n",
    "sampling_rate = 0.02\n",
    "random_state = 17 ## for reproducibility\n",
    "\n",
    "\n",
    "## Groupby landmark ids & give count of these recurring ids\n",
    "landmarks=train_df.groupby(by='landmark_id').count().loc[:,\"id\"]\n",
    "#print(landmarks.head())\n",
    "## sort the landmark in descending order \n",
    "l = landmarks.sort_values(ascending=False)\n",
    "#print(l)\n",
    "\n",
    "#l = landmarks.sort_values(by =\"landmark_id\",ascending=False)\n",
    "#write_grp_by = landmarks.to_excel(r\"C:\\Users\\Abhishek\\Desktop\\To_be_deleted.xlsx\")\n",
    "#print(l)\n",
    "\n",
    "\n",
    "lmks = pd.concat([l,l/l.sum(),l.cumsum()/l.sum()],axis = 1 ,ignore_index=True)\n",
    "lmks.columns = ['count','proportion','CumSum']\n",
    "#print(lmks)\n",
    "\n",
    "ranked = lmks[0:rank_number]\n",
    "#print(ranked.index)\n",
    "\n",
    "train_ordered = train_df[train_df.landmark_id.isin(ranked.index)]\n",
    "#print(train_ordered)\n",
    "## sAMPLING FROM EACH LANDMARK_ID ............................................\n",
    "\n",
    "sample_gby = train_ordered.groupby(by = \"landmark_id\").apply(lambda x: x.sample(frac=sampling_rate, random_state=random_state))\n",
    "#print(sample_gby)\n",
    "\n",
    "sample_idx = sample_gby.index.levels[1]\n",
    "train_sample = train_df.iloc[sample_idx, :]\n",
    "#print(train_sample)\n",
    "\n",
    "\n",
    "\n",
    "#print(train_sample.shape[0])\n",
    "train_sample.to_csv(r\"C:\\Users\\Abhishek\\Desktop\\keras_try\\train_sample.csv\", index=False, quoting=csv.QUOTE_NONNUMERIC)\n",
    "\n",
    "train_sample_df = pd.read_csv(r\"C:\\Users\\Abhishek\\Desktop\\keras_try\\train_sample.csv\")\n",
    "#print(train_sample_df)\n",
    "\n"
   ]
  },
  {
   "cell_type": "code",
   "execution_count": 6,
   "metadata": {},
   "outputs": [
    {
     "name": "stdout",
     "output_type": "stream",
     "text": [
      "9633    0.115288\n",
      "6051    0.115078\n",
      "None    0.067409\n",
      "6599    0.053339\n",
      "9779    0.041999\n",
      "Name: landmark_id, dtype: float64\n"
     ]
    },
    {
     "data": {
      "text/plain": [
       "Text(0, 0.5, 'Proportion of landmark in training set')"
      ]
     },
     "execution_count": 6,
     "metadata": {},
     "output_type": "execute_result"
    }
   ],
   "source": [
    "#print(train_sample['landmark_id'].value_counts()[:10])\n",
    "#print(train_sample.shape[0])\n",
    "landmark_dist = train_sample['landmark_id'].value_counts() / train_sample.shape[0]\n",
    "print(landmark_dist.head())\n",
    "#print(len(landmark_dist))\n",
    "import matplotlib.pyplot as plt\n",
    "\n",
    "plt.figure(figsize = (12,5))\n",
    "fig = plt.bar(range(101),landmark_dist)\n",
    "plt.xlabel(\"landmark\")\n",
    "plt.ylabel(\"Proportion of landmark in training set\")\n"
   ]
  },
  {
   "cell_type": "code",
   "execution_count": 29,
   "metadata": {},
   "outputs": [
    {
     "ename": "TypeError",
     "evalue": "You have to supply one of 'by' and 'level'",
     "output_type": "error",
     "traceback": [
      "\u001b[1;31m---------------------------------------------------------------------------\u001b[0m",
      "\u001b[1;31mTypeError\u001b[0m                                 Traceback (most recent call last)",
      "\u001b[1;32m<ipython-input-29-9a814d18c5b7>\u001b[0m in \u001b[0;36m<module>\u001b[1;34m\u001b[0m\n\u001b[0;32m     16\u001b[0m \u001b[1;31m## X_train & Y_train gets reduced train set\u001b[0m\u001b[1;33m\u001b[0m\u001b[1;33m\u001b[0m\u001b[1;33m\u001b[0m\u001b[0m\n\u001b[0;32m     17\u001b[0m \u001b[0mtrain_sample_ref\u001b[0m \u001b[1;33m=\u001b[0m \u001b[0mtrain_sample_df\u001b[0m\u001b[1;33m.\u001b[0m\u001b[0mloc\u001b[0m\u001b[1;33m[\u001b[0m\u001b[0mtrain_sample_df\u001b[0m\u001b[1;33m[\u001b[0m\u001b[1;34m\"id\"\u001b[0m\u001b[1;33m]\u001b[0m\u001b[1;33m.\u001b[0m\u001b[0misin\u001b[0m\u001b[1;33m(\u001b[0m\u001b[0mX_train\u001b[0m\u001b[1;33m)\u001b[0m\u001b[1;33m]\u001b[0m\u001b[1;33m\u001b[0m\u001b[1;33m\u001b[0m\u001b[0m\n\u001b[1;32m---> 18\u001b[1;33m \u001b[0mprint\u001b[0m\u001b[1;33m(\u001b[0m\u001b[0mtrain_sample_ref\u001b[0m\u001b[1;33m[\u001b[0m\u001b[1;34m\"landmark_id\"\u001b[0m\u001b[1;33m]\u001b[0m\u001b[1;33m.\u001b[0m\u001b[0mgroupby\u001b[0m\u001b[1;33m(\u001b[0m\u001b[1;33m)\u001b[0m\u001b[1;33m)\u001b[0m\u001b[1;33m\u001b[0m\u001b[1;33m\u001b[0m\u001b[0m\n\u001b[0m\u001b[0;32m     19\u001b[0m \u001b[1;31m#refined_train_sample_df = train_sample_ref.to_csv(r\"C:\\Users\\Abhishek\\Desktop\\keras_try\\refined_train_set.csv\")\u001b[0m\u001b[1;33m\u001b[0m\u001b[1;33m\u001b[0m\u001b[1;33m\u001b[0m\u001b[0m\n\u001b[0;32m     20\u001b[0m \u001b[1;31m## X_temp & Y_temp gets the Testing set\u001b[0m\u001b[1;33m\u001b[0m\u001b[1;33m\u001b[0m\u001b[1;33m\u001b[0m\u001b[0m\n",
      "\u001b[1;32mc:\\users\\abhishek\\desktop\\keras_try\\lib\\site-packages\\pandas\\core\\generic.py\u001b[0m in \u001b[0;36mgroupby\u001b[1;34m(self, by, axis, level, as_index, sort, group_keys, squeeze, observed, **kwargs)\u001b[0m\n\u001b[0;32m   7626\u001b[0m \u001b[1;33m\u001b[0m\u001b[0m\n\u001b[0;32m   7627\u001b[0m         \u001b[1;32mif\u001b[0m \u001b[0mlevel\u001b[0m \u001b[1;32mis\u001b[0m \u001b[1;32mNone\u001b[0m \u001b[1;32mand\u001b[0m \u001b[0mby\u001b[0m \u001b[1;32mis\u001b[0m \u001b[1;32mNone\u001b[0m\u001b[1;33m:\u001b[0m\u001b[1;33m\u001b[0m\u001b[1;33m\u001b[0m\u001b[0m\n\u001b[1;32m-> 7628\u001b[1;33m             \u001b[1;32mraise\u001b[0m \u001b[0mTypeError\u001b[0m\u001b[1;33m(\u001b[0m\u001b[1;34m\"You have to supply one of 'by' and 'level'\"\u001b[0m\u001b[1;33m)\u001b[0m\u001b[1;33m\u001b[0m\u001b[1;33m\u001b[0m\u001b[0m\n\u001b[0m\u001b[0;32m   7629\u001b[0m         \u001b[0maxis\u001b[0m \u001b[1;33m=\u001b[0m \u001b[0mself\u001b[0m\u001b[1;33m.\u001b[0m\u001b[0m_get_axis_number\u001b[0m\u001b[1;33m(\u001b[0m\u001b[0maxis\u001b[0m\u001b[1;33m)\u001b[0m\u001b[1;33m\u001b[0m\u001b[1;33m\u001b[0m\u001b[0m\n\u001b[0;32m   7630\u001b[0m         return groupby(self, by=by, axis=axis, level=level, as_index=as_index,\n",
      "\u001b[1;31mTypeError\u001b[0m: You have to supply one of 'by' and 'level'"
     ]
    }
   ],
   "source": [
    "## Create train, Validation & test dataset \n",
    "from sklearn.model_selection import StratifiedShuffleSplit\n",
    "#print(train_sample_df)\n",
    "X = train_sample_df['id']\n",
    "Y = train_sample_df['landmark_id']\n",
    "#print(X,Y)\n",
    "ss = StratifiedShuffleSplit(n_splits = 1,test_size = 0.2)\n",
    "\n",
    "for train_id,test_id in ss.split(X,Y):\n",
    "    #print(X,Y)\n",
    "    # Y_train stores landmark_id , X_train stores id\n",
    "    \n",
    "    X_train,X_temp = X.iloc[train_id],X.iloc[test_id]\n",
    "    Y_train , Y_temp = Y.iloc[train_id],Y.iloc[test_id]\n",
    "\n",
    "## X_train & Y_train gets reduced train set \n",
    "train_sample_ref = train_sample_df.loc[train_sample_df[\"id\"].isin(X_train)]\n",
    "#print(train_sample_ref[\"landmark_id\"])\n",
    "#refined_train_sample_df = train_sample_ref.to_csv(r\"C:\\Users\\Abhishek\\Desktop\\keras_try\\refined_train_set.csv\") \n",
    "## X_temp & Y_temp gets the Testing set \n",
    "test_sample = train_sample_df.loc[train_sample_df[\"id\"].isin(X_temp)]\n",
    "#test_sample_df =  test_sample.to_csv(r\"C:\\Users\\Abhishek\\Desktop\\keras_try\\test_sample.csv\")\n",
    "\n",
    "## Seggregating  Validation samples \n",
    "ss1 =  StratifiedShuffleSplit(n_splits = 1, test_size = 0.5)\n",
    "for train_id , test_id in ss1.split(X_temp,Y_temp):\n",
    "    X_valid, X_test = X_temp.iloc[train_id], X_temp.iloc[test_id]\n",
    "    Y_valid, Y_test = Y_temp.iloc[train_id], Y_temp.iloc[test_id]\n",
    "validation_sample = train_sample_df.loc[train_sample_df[\"id\"].isin(X_valid)]\n",
    "#validation_sample_df =  validation_sample.to_csv(r\"C:\\Users\\Abhishek\\Desktop\\keras_try\\Validation_sample.csv\")\n",
    "#print(len(validation_sample[\"id\"]))"
   ]
  },
  {
   "cell_type": "code",
   "execution_count": 28,
   "metadata": {},
   "outputs": [
    {
     "name": "stdout",
     "output_type": "stream",
     "text": [
      "Number of training images: 3809\n",
      "Number of Test images: 953\n",
      "Number of Validation images: 476\n"
     ]
    }
   ],
   "source": [
    "print(\"Number of training images:\", len(train_sample_ref))\n",
    "print(\"Number of Test images:\", len(test_sample))\n",
    "print(\"Number of Validation images:\", len(validation_sample))\n"
   ]
  },
  {
   "cell_type": "markdown",
   "metadata": {},
   "source": []
  },
  {
   "cell_type": "code",
   "execution_count": 9,
   "metadata": {},
   "outputs": [
    {
     "name": "stdout",
     "output_type": "stream",
     "text": [
      "WARNING:tensorflow:From c:\\users\\abhishek\\desktop\\keras_try\\lib\\site-packages\\tensorflow\\python\\framework\\op_def_library.py:263: colocate_with (from tensorflow.python.framework.ops) is deprecated and will be removed in a future version.\n",
      "Instructions for updating:\n",
      "Colocations handled automatically by placer.\n",
      "WARNING:tensorflow:From c:\\users\\abhishek\\desktop\\keras_try\\lib\\site-packages\\keras\\backend\\tensorflow_backend.py:3445: calling dropout (from tensorflow.python.ops.nn_ops) with keep_prob is deprecated and will be removed in a future version.\n",
      "Instructions for updating:\n",
      "Please use `rate` instead of `keep_prob`. Rate should be set to `rate = 1 - keep_prob`.\n",
      "_________________________________________________________________\n",
      "Layer (type)                 Output Shape              Param #   \n",
      "=================================================================\n",
      "conv2d_1 (Conv2D)            (None, 125, 125, 16)      784       \n",
      "_________________________________________________________________\n",
      "max_pooling2d_1 (MaxPooling2 (None, 62, 62, 16)        0         \n",
      "_________________________________________________________________\n",
      "conv2d_2 (Conv2D)            (None, 62, 62, 32)        4640      \n",
      "_________________________________________________________________\n",
      "max_pooling2d_2 (MaxPooling2 (None, 31, 31, 32)        0         \n",
      "_________________________________________________________________\n",
      "conv2d_3 (Conv2D)            (None, 31, 31, 64)        18496     \n",
      "_________________________________________________________________\n",
      "max_pooling2d_3 (MaxPooling2 (None, 15, 15, 64)        0         \n",
      "_________________________________________________________________\n",
      "conv2d_4 (Conv2D)            (None, 15, 15, 128)       32896     \n",
      "_________________________________________________________________\n",
      "max_pooling2d_4 (MaxPooling2 (None, 7, 7, 128)         0         \n",
      "_________________________________________________________________\n",
      "conv2d_5 (Conv2D)            (None, 7, 7, 256)         131328    \n",
      "_________________________________________________________________\n",
      "max_pooling2d_5 (MaxPooling2 (None, 3, 3, 256)         0         \n",
      "_________________________________________________________________\n",
      "flatten_1 (Flatten)          (None, 2304)              0         \n",
      "_________________________________________________________________\n",
      "dense_1 (Dense)              (None, 1024)              2360320   \n",
      "_________________________________________________________________\n",
      "dropout_1 (Dropout)          (None, 1024)              0         \n",
      "_________________________________________________________________\n",
      "dense_2 (Dense)              (None, 512)               524800    \n",
      "_________________________________________________________________\n",
      "dropout_2 (Dropout)          (None, 512)               0         \n",
      "_________________________________________________________________\n",
      "dense_3 (Dense)              (None, 100)               51300     \n",
      "=================================================================\n",
      "Total params: 3,124,564\n",
      "Trainable params: 3,124,564\n",
      "Non-trainable params: 0\n",
      "_________________________________________________________________\n"
     ]
    }
   ],
   "source": [
    "from keras.models import Sequential\n",
    "from keras.layers import Conv2D,MaxPooling2D,Activation,Dropout,Flatten,Dense\n",
    "\n",
    "input_shape = (128,128,3)\n",
    "model = Sequential()\n",
    "model.add(Conv2D(filters = 16, kernel_size =(4,4), activation='relu',input_shape = input_shape))\n",
    "model.add(MaxPooling2D(pool_size=2))\n",
    "\n",
    "model.add(Conv2D(filters=32, kernel_size=(3,3), padding='same', activation='relu'))\n",
    "model.add(MaxPooling2D(pool_size=2))\n",
    "\n",
    "model.add(Conv2D(filters=64, kernel_size=(3,3), padding='same', activation='relu'))\n",
    "model.add(MaxPooling2D(pool_size=2))\n",
    "\n",
    "model.add(Conv2D(filters=128, kernel_size=(2,2), padding='same', activation='relu'))\n",
    "model.add(MaxPooling2D(pool_size=2))\n",
    "\n",
    "model.add(Conv2D(filters=256, kernel_size=(2,2), padding='same', activation='relu'))\n",
    "model.add(MaxPooling2D(pool_size=2))\n",
    "\n",
    "model.add(Flatten())\n",
    "model.add(Dense(1024, activation='relu'))\n",
    "model.add(Dropout(0.3))\n",
    "model.add(Dense(512, activation='relu'))\n",
    "model.add(Dropout(0.3))\n",
    "model.add(Dense(100, activation='softmax'))\n",
    "\n",
    "model.summary()\n",
    "\n",
    "model.compile(optimizer='adam', loss='mean_squared_error', metrics=['accuracy'])                     "
   ]
  },
  {
   "cell_type": "code",
   "execution_count": 82,
   "metadata": {},
   "outputs": [
    {
     "name": "stdout",
     "output_type": "stream",
     "text": [
      "Found 2658 images belonging to 100 classes.\n"
     ]
    }
   ],
   "source": [
    "\n",
    "import os\n",
    "import copy\n",
    "from keras.preprocessing import image                  \n",
    "from keras.preprocessing.image import ImageDataGenerator\n",
    "import re\n",
    "from keras.utils import to_categorical\n",
    "\n",
    "def get_label_images(path,sample):\n",
    "    sample_match = path.split('\\\\')\n",
    "   \n",
    "    counter =0\n",
    "    if \"Train_images\" in sample_match:\n",
    "        type_of_dataset = \"Train_images\"\n",
    "    else:\n",
    "        type_of_dataset = \"Validation_images\"\n",
    "    all_files = os.listdir(path)\n",
    "    full_file_path = [path+\"\\\\\"+each_file for each_file in all_files ]\n",
    "    full_file_path =[each_file.replace('\\\\','/') for each_file in full_file_path]\n",
    "    #print(\"full_file_path\",len(full_file_path))\n",
    "    sample_dup_file_paths = copy.deepcopy(full_file_path)\n",
    "    label_out = pd.Series(name = \"result\")\n",
    "    for ind,each in enumerate(full_file_path):\n",
    "        match = re.search(\"(?<={0}/)\\S+(?=.jpg)\".format(type_of_dataset),each)\n",
    "        #print(match.group())\n",
    "        uniq_id = sample[sample[\"id\"]==match.group()][\"landmark_id\"]\n",
    "        #print(uniq_id)\n",
    "        if uniq_id.empty ==True:\n",
    "            sample_dup_file_paths.remove(each)\n",
    "\n",
    "            \n",
    "        label_out = label_out.append(uniq_id)\n",
    "    \n",
    "    label_out = np.array(pd.get_dummies(label_out))\n",
    "    label_out = (label_out.tolist())\n",
    "\n",
    "    dict_processed = pd.DataFrame({\"full file path\":sample_dup_file_paths,\"label\":label_out})\n",
    "    #blah = dict_processed.to_csv(r\"C:\\Users\\Abhishek\\Desktop\\keras_try\\verify.csv\")\n",
    "\n",
    "    return dict_processed\n",
    "\n",
    "#clas_name = pd.Series([\"class\"])\n",
    "train_path = r\"C:\\Users\\Abhishek\\Desktop\\keras_try\\Train_images\"\n",
    "train_df = get_label_images(train_path,train_sample_ref)\n",
    "#print(train_df.head())\n",
    "train_class_list = []\n",
    "for each_list in train_df[\"label\"]:\n",
    "    for ind,each_value in enumerate(each_list):\n",
    "        if each_value == 1:\n",
    "            train_class_list.append(str(ind))\n",
    "           \n",
    "\n",
    "\n",
    "\n",
    "train_df[\"class\"]=train_class_list\n",
    "#print(train_df.head())\n",
    "\n",
    "train_datagen = ImageDataGenerator(rescale = 1/255)\n",
    "train_pixel_dat_gen=train_datagen.flow_from_dataframe(train_df, directory=None, x_col='full file path', y_col = \"class\",target_size=(128,128), color_mode='rgb',class_mode='categorical', batch_size=100)\n",
    "\n",
    "\n",
    "\n"
   ]
  },
  {
   "cell_type": "code",
   "execution_count": 87,
   "metadata": {},
   "outputs": [
    {
     "name": "stdout",
     "output_type": "stream",
     "text": [
      "full_file_path 412\n",
      "                 id                                                url  \\\n",
      "0  f1710cb352188505  https://lh5.googleusercontent.com/-040Z3oFuD9g...   \n",
      "1  7f73e3e715025677  https://lh4.googleusercontent.com/-vMOseSXpyvY...   \n",
      "2  132d030552248853  https://lh6.googleusercontent.com/-yfnppXYYNFM...   \n",
      "3  75ca19ea94fa51b6  http://lh5.ggpht.com/-65wFlhtCFzU/Ru2J2mPl0FI/...   \n",
      "4  21fa91eba2d927fd  http://lh4.ggpht.com/-oVdDDu5vmmw/S_Ar-WMOT2I/...   \n",
      "\n",
      "  landmark_id  \n",
      "0        6051  \n",
      "1        6599  \n",
      "2        2061  \n",
      "3        9633  \n",
      "4        9633  \n",
      "['C:/Users/Abhishek/Desktop/keras_try/Validation_images/003b6c48bbf39be9.jpg', 'C:/Users/Abhishek/Desktop/keras_try/Validation_images/0128aa8c1cc6c6a7.jpg', 'C:/Users/Abhishek/Desktop/keras_try/Validation_images/014a20157ddf5402.jpg', 'C:/Users/Abhishek/Desktop/keras_try/Validation_images/02d511063ad3dfed.jpg', 'C:/Users/Abhishek/Desktop/keras_try/Validation_images/02fd213264a9f329.jpg', 'C:/Users/Abhishek/Desktop/keras_try/Validation_images/0311c1b7f31dd668.jpg', 'C:/Users/Abhishek/Desktop/keras_try/Validation_images/05aa8809639e0843.jpg', 'C:/Users/Abhishek/Desktop/keras_try/Validation_images/07edee106181f661.jpg', 'C:/Users/Abhishek/Desktop/keras_try/Validation_images/0820bfa14fe8d583.jpg', 'C:/Users/Abhishek/Desktop/keras_try/Validation_images/085b73c5cad06bfb.jpg', 'C:/Users/Abhishek/Desktop/keras_try/Validation_images/08634bcc0adf1d5b.jpg', 'C:/Users/Abhishek/Desktop/keras_try/Validation_images/090e854690e0b200.jpg', 'C:/Users/Abhishek/Desktop/keras_try/Validation_images/09e7b782bbc2483e.jpg', 'C:/Users/Abhishek/Desktop/keras_try/Validation_images/0a17556dbb655228.jpg', 'C:/Users/Abhishek/Desktop/keras_try/Validation_images/0a78f69a66a4aef4.jpg', 'C:/Users/Abhishek/Desktop/keras_try/Validation_images/0abcbcc2ce28c2c0.jpg', 'C:/Users/Abhishek/Desktop/keras_try/Validation_images/0be4050bc5bbc0c3.jpg', 'C:/Users/Abhishek/Desktop/keras_try/Validation_images/0e4516aa24dc1de3.jpg', 'C:/Users/Abhishek/Desktop/keras_try/Validation_images/0e7343577d6924be.jpg', 'C:/Users/Abhishek/Desktop/keras_try/Validation_images/0f03ac588077631a.jpg', 'C:/Users/Abhishek/Desktop/keras_try/Validation_images/0fc9d58a46039797.jpg', 'C:/Users/Abhishek/Desktop/keras_try/Validation_images/0fd08057c9a363f7.jpg', 'C:/Users/Abhishek/Desktop/keras_try/Validation_images/101086bc92f9ee68.jpg', 'C:/Users/Abhishek/Desktop/keras_try/Validation_images/106bad54dd9b1927.jpg', 'C:/Users/Abhishek/Desktop/keras_try/Validation_images/11473a39978dc4e3.jpg', 'C:/Users/Abhishek/Desktop/keras_try/Validation_images/1208c776efc5f642.jpg', 'C:/Users/Abhishek/Desktop/keras_try/Validation_images/124080aa2df69819.jpg', 'C:/Users/Abhishek/Desktop/keras_try/Validation_images/132d030552248853.jpg', 'C:/Users/Abhishek/Desktop/keras_try/Validation_images/1336097502d51c49.jpg', 'C:/Users/Abhishek/Desktop/keras_try/Validation_images/134c214bbeabe424.jpg', 'C:/Users/Abhishek/Desktop/keras_try/Validation_images/140acb67906cdf60.jpg', 'C:/Users/Abhishek/Desktop/keras_try/Validation_images/16936ed38590ba66.jpg', 'C:/Users/Abhishek/Desktop/keras_try/Validation_images/176363ccf77255e5.jpg', 'C:/Users/Abhishek/Desktop/keras_try/Validation_images/178b9b3b2a5ae21d.jpg', 'C:/Users/Abhishek/Desktop/keras_try/Validation_images/179c0e4848b53ea6.jpg', 'C:/Users/Abhishek/Desktop/keras_try/Validation_images/181045db89138513.jpg', 'C:/Users/Abhishek/Desktop/keras_try/Validation_images/18fee0d3c8bb9894.jpg', 'C:/Users/Abhishek/Desktop/keras_try/Validation_images/19b1630d60f58db8.jpg', 'C:/Users/Abhishek/Desktop/keras_try/Validation_images/1ad1b4f47a1b4887.jpg', 'C:/Users/Abhishek/Desktop/keras_try/Validation_images/1b320760e448adc7.jpg', 'C:/Users/Abhishek/Desktop/keras_try/Validation_images/1b35c4266bdf3655.jpg', 'C:/Users/Abhishek/Desktop/keras_try/Validation_images/1c43750e9436da8e.jpg', 'C:/Users/Abhishek/Desktop/keras_try/Validation_images/1ce359d874e64e6a.jpg', 'C:/Users/Abhishek/Desktop/keras_try/Validation_images/1d13e6b2db1791ca.jpg', 'C:/Users/Abhishek/Desktop/keras_try/Validation_images/1dd9b237502ee175.jpg', 'C:/Users/Abhishek/Desktop/keras_try/Validation_images/1e24313a0404f02d.jpg', 'C:/Users/Abhishek/Desktop/keras_try/Validation_images/1e24f65e089aee88.jpg', 'C:/Users/Abhishek/Desktop/keras_try/Validation_images/1e846bf9193a7de8.jpg', 'C:/Users/Abhishek/Desktop/keras_try/Validation_images/1ebae7d89b171029.jpg', 'C:/Users/Abhishek/Desktop/keras_try/Validation_images/20579a7546ab4114.jpg', 'C:/Users/Abhishek/Desktop/keras_try/Validation_images/213d0522e5c20d39.jpg', 'C:/Users/Abhishek/Desktop/keras_try/Validation_images/21427c65e1c9a0f3.jpg', 'C:/Users/Abhishek/Desktop/keras_try/Validation_images/215271a3dfcdabc2.jpg', 'C:/Users/Abhishek/Desktop/keras_try/Validation_images/21d5ad9e51194316.jpg', 'C:/Users/Abhishek/Desktop/keras_try/Validation_images/21fa91eba2d927fd.jpg', 'C:/Users/Abhishek/Desktop/keras_try/Validation_images/224920af17e81f79.jpg', 'C:/Users/Abhishek/Desktop/keras_try/Validation_images/226649be95651e35.jpg', 'C:/Users/Abhishek/Desktop/keras_try/Validation_images/22f476da0ef6c752.jpg', 'C:/Users/Abhishek/Desktop/keras_try/Validation_images/230d90d8b253a5c9.jpg', 'C:/Users/Abhishek/Desktop/keras_try/Validation_images/23f25f4742594caa.jpg', 'C:/Users/Abhishek/Desktop/keras_try/Validation_images/24048e79f6251ebd.jpg', 'C:/Users/Abhishek/Desktop/keras_try/Validation_images/241b59b9d2043e23.jpg', 'C:/Users/Abhishek/Desktop/keras_try/Validation_images/24760d45343cafc7.jpg', 'C:/Users/Abhishek/Desktop/keras_try/Validation_images/25cf3ebc9f27365f.jpg', 'C:/Users/Abhishek/Desktop/keras_try/Validation_images/25e05f4696ffabf3.jpg', 'C:/Users/Abhishek/Desktop/keras_try/Validation_images/262de3e12dffc1bf.jpg', 'C:/Users/Abhishek/Desktop/keras_try/Validation_images/26463471a8601b79.jpg', 'C:/Users/Abhishek/Desktop/keras_try/Validation_images/267551c80dde4d37.jpg', 'C:/Users/Abhishek/Desktop/keras_try/Validation_images/26cf44cfc7e7203b.jpg', 'C:/Users/Abhishek/Desktop/keras_try/Validation_images/27690a5b9012de75.jpg', 'C:/Users/Abhishek/Desktop/keras_try/Validation_images/28fc9c9f07c688d2.jpg', 'C:/Users/Abhishek/Desktop/keras_try/Validation_images/290b29781503f9af.jpg', 'C:/Users/Abhishek/Desktop/keras_try/Validation_images/29238b0f91a1c875.jpg', 'C:/Users/Abhishek/Desktop/keras_try/Validation_images/29260f0da97083bc.jpg', 'C:/Users/Abhishek/Desktop/keras_try/Validation_images/2951f8e94da5db49.jpg', 'C:/Users/Abhishek/Desktop/keras_try/Validation_images/2a4c7cc0b2cba4e9.jpg', 'C:/Users/Abhishek/Desktop/keras_try/Validation_images/2a78d56b0984a423.jpg', 'C:/Users/Abhishek/Desktop/keras_try/Validation_images/2b034db1c26abb7b.jpg', 'C:/Users/Abhishek/Desktop/keras_try/Validation_images/2c4f5e3d9cc094e8.jpg', 'C:/Users/Abhishek/Desktop/keras_try/Validation_images/2c5946676ea5db2d.jpg', 'C:/Users/Abhishek/Desktop/keras_try/Validation_images/2c7a4840289c3a0b.jpg', 'C:/Users/Abhishek/Desktop/keras_try/Validation_images/2ce777232e63f94e.jpg', 'C:/Users/Abhishek/Desktop/keras_try/Validation_images/2d2585bfa689ad73.jpg', 'C:/Users/Abhishek/Desktop/keras_try/Validation_images/2d9caef4e0212c39.jpg', 'C:/Users/Abhishek/Desktop/keras_try/Validation_images/2db7c57edef8828c.jpg', 'C:/Users/Abhishek/Desktop/keras_try/Validation_images/311cc1f69eeb7540.jpg', 'C:/Users/Abhishek/Desktop/keras_try/Validation_images/31cd558e54060348.jpg', 'C:/Users/Abhishek/Desktop/keras_try/Validation_images/324b0babcfe93b76.jpg', 'C:/Users/Abhishek/Desktop/keras_try/Validation_images/32802dd50f83015c.jpg', 'C:/Users/Abhishek/Desktop/keras_try/Validation_images/332a7c6ac82dcd74.jpg', 'C:/Users/Abhishek/Desktop/keras_try/Validation_images/34e6af516de0615b.jpg', 'C:/Users/Abhishek/Desktop/keras_try/Validation_images/35a196a85fffaf25.jpg', 'C:/Users/Abhishek/Desktop/keras_try/Validation_images/35be9ad22d938eea.jpg', 'C:/Users/Abhishek/Desktop/keras_try/Validation_images/36abd300071b3efb.jpg', 'C:/Users/Abhishek/Desktop/keras_try/Validation_images/371129321758bd8f.jpg', 'C:/Users/Abhishek/Desktop/keras_try/Validation_images/372b2f5f4de60820.jpg', 'C:/Users/Abhishek/Desktop/keras_try/Validation_images/375a2e7da8df2a54.jpg', 'C:/Users/Abhishek/Desktop/keras_try/Validation_images/38526a0f77d7da63.jpg', 'C:/Users/Abhishek/Desktop/keras_try/Validation_images/387a403455213ec1.jpg', 'C:/Users/Abhishek/Desktop/keras_try/Validation_images/3975bd9cedd39c4d.jpg', 'C:/Users/Abhishek/Desktop/keras_try/Validation_images/3b5cdc4758f0ec5f.jpg', 'C:/Users/Abhishek/Desktop/keras_try/Validation_images/3ba7676c302e0c24.jpg', 'C:/Users/Abhishek/Desktop/keras_try/Validation_images/3bca41fb14487ee7.jpg', 'C:/Users/Abhishek/Desktop/keras_try/Validation_images/3bfb17acd7307a6e.jpg', 'C:/Users/Abhishek/Desktop/keras_try/Validation_images/3bfdf33859164eb4.jpg', 'C:/Users/Abhishek/Desktop/keras_try/Validation_images/3c6df473a910184a.jpg', 'C:/Users/Abhishek/Desktop/keras_try/Validation_images/3c73d509fef8cd84.jpg', 'C:/Users/Abhishek/Desktop/keras_try/Validation_images/3cbe8e880325221d.jpg', 'C:/Users/Abhishek/Desktop/keras_try/Validation_images/3e60cdc59794cdd1.jpg', 'C:/Users/Abhishek/Desktop/keras_try/Validation_images/3fbe6a0ffc121ccb.jpg', 'C:/Users/Abhishek/Desktop/keras_try/Validation_images/3fc2f5d72c5ee478.jpg', 'C:/Users/Abhishek/Desktop/keras_try/Validation_images/405353e642cf6482.jpg', 'C:/Users/Abhishek/Desktop/keras_try/Validation_images/41e49c3102635800.jpg', 'C:/Users/Abhishek/Desktop/keras_try/Validation_images/41fa28765f87908f.jpg', 'C:/Users/Abhishek/Desktop/keras_try/Validation_images/42f7eac18ffed638.jpg', 'C:/Users/Abhishek/Desktop/keras_try/Validation_images/440ca9bccb659625.jpg', 'C:/Users/Abhishek/Desktop/keras_try/Validation_images/456b2c0d5f41fbe7.jpg', 'C:/Users/Abhishek/Desktop/keras_try/Validation_images/461c471a9966aa98.jpg', 'C:/Users/Abhishek/Desktop/keras_try/Validation_images/4741c835a0bdbfc0.jpg', 'C:/Users/Abhishek/Desktop/keras_try/Validation_images/476494488a2fe1d4.jpg', 'C:/Users/Abhishek/Desktop/keras_try/Validation_images/479e7b3ad223b067.jpg', 'C:/Users/Abhishek/Desktop/keras_try/Validation_images/47b2ccf2002fe705.jpg', 'C:/Users/Abhishek/Desktop/keras_try/Validation_images/47ecaba5cf8ba1ad.jpg', 'C:/Users/Abhishek/Desktop/keras_try/Validation_images/4bcb74a8fa9177fe.jpg', 'C:/Users/Abhishek/Desktop/keras_try/Validation_images/4c738f03a33f041e.jpg', 'C:/Users/Abhishek/Desktop/keras_try/Validation_images/4cc8b2cd5fcc232a.jpg', 'C:/Users/Abhishek/Desktop/keras_try/Validation_images/4d09d636b9606641.jpg', 'C:/Users/Abhishek/Desktop/keras_try/Validation_images/4d179d9d29429330.jpg', 'C:/Users/Abhishek/Desktop/keras_try/Validation_images/4dcc050b91cbd70c.jpg', 'C:/Users/Abhishek/Desktop/keras_try/Validation_images/501db5de0b53d7e0.jpg', 'C:/Users/Abhishek/Desktop/keras_try/Validation_images/50e545c2eabd9624.jpg', 'C:/Users/Abhishek/Desktop/keras_try/Validation_images/512122084ff6af89.jpg', 'C:/Users/Abhishek/Desktop/keras_try/Validation_images/51abd4676243e583.jpg', 'C:/Users/Abhishek/Desktop/keras_try/Validation_images/530dea95cfc67a61.jpg', 'C:/Users/Abhishek/Desktop/keras_try/Validation_images/538204b2482059ef.jpg', 'C:/Users/Abhishek/Desktop/keras_try/Validation_images/53e3af5b17ea2012.jpg', 'C:/Users/Abhishek/Desktop/keras_try/Validation_images/55818ed9377bd2c7.jpg', 'C:/Users/Abhishek/Desktop/keras_try/Validation_images/569b0c5f8ad1dfd1.jpg', 'C:/Users/Abhishek/Desktop/keras_try/Validation_images/56a75c8f9280b9ee.jpg', 'C:/Users/Abhishek/Desktop/keras_try/Validation_images/57e708816229c3fa.jpg', 'C:/Users/Abhishek/Desktop/keras_try/Validation_images/58ac60848664b320.jpg', 'C:/Users/Abhishek/Desktop/keras_try/Validation_images/58d65831643796d5.jpg', 'C:/Users/Abhishek/Desktop/keras_try/Validation_images/591556cda62f7c25.jpg', 'C:/Users/Abhishek/Desktop/keras_try/Validation_images/592e9ec1b9332551.jpg', 'C:/Users/Abhishek/Desktop/keras_try/Validation_images/59618c959eee84b3.jpg', 'C:/Users/Abhishek/Desktop/keras_try/Validation_images/5a5ed90cb1aea266.jpg', 'C:/Users/Abhishek/Desktop/keras_try/Validation_images/5a650c43d2f17aae.jpg', 'C:/Users/Abhishek/Desktop/keras_try/Validation_images/5b04fdb4448f9b06.jpg', 'C:/Users/Abhishek/Desktop/keras_try/Validation_images/5bd8529a0cfbb945.jpg', 'C:/Users/Abhishek/Desktop/keras_try/Validation_images/5c63a3f9cfd2e584.jpg', 'C:/Users/Abhishek/Desktop/keras_try/Validation_images/5ca4a59da730d325.jpg', 'C:/Users/Abhishek/Desktop/keras_try/Validation_images/5d45785a5937077c.jpg', 'C:/Users/Abhishek/Desktop/keras_try/Validation_images/5d8363523d1894ad.jpg', 'C:/Users/Abhishek/Desktop/keras_try/Validation_images/5e518299cba78358.jpg', 'C:/Users/Abhishek/Desktop/keras_try/Validation_images/5e84ef9cf265e201.jpg', 'C:/Users/Abhishek/Desktop/keras_try/Validation_images/5f15bf2a6642c427.jpg', 'C:/Users/Abhishek/Desktop/keras_try/Validation_images/5f28bb2537e04e39.jpg', 'C:/Users/Abhishek/Desktop/keras_try/Validation_images/5ff6a8a4ab6287d4.jpg', 'C:/Users/Abhishek/Desktop/keras_try/Validation_images/6029b21379440896.jpg', 'C:/Users/Abhishek/Desktop/keras_try/Validation_images/60e26ddc6e0d2fce.jpg', 'C:/Users/Abhishek/Desktop/keras_try/Validation_images/612af39c49cfe28f.jpg', 'C:/Users/Abhishek/Desktop/keras_try/Validation_images/618bb6823e57d4c9.jpg', 'C:/Users/Abhishek/Desktop/keras_try/Validation_images/626f408b3150cfe2.jpg', 'C:/Users/Abhishek/Desktop/keras_try/Validation_images/62c2b556a0da2589.jpg', 'C:/Users/Abhishek/Desktop/keras_try/Validation_images/62cc5a3d7f5deafc.jpg', 'C:/Users/Abhishek/Desktop/keras_try/Validation_images/63aceb70b6ef75e1.jpg', 'C:/Users/Abhishek/Desktop/keras_try/Validation_images/63f110a982bbe60e.jpg', 'C:/Users/Abhishek/Desktop/keras_try/Validation_images/645c23b6b2b06d40.jpg', 'C:/Users/Abhishek/Desktop/keras_try/Validation_images/66e3d213cf7af299.jpg', 'C:/Users/Abhishek/Desktop/keras_try/Validation_images/67089ba9d8ea82b7.jpg', 'C:/Users/Abhishek/Desktop/keras_try/Validation_images/68f9f9e634ccc91c.jpg', 'C:/Users/Abhishek/Desktop/keras_try/Validation_images/696158a313d1677f.jpg', 'C:/Users/Abhishek/Desktop/keras_try/Validation_images/697733bbfd6a54a5.jpg', 'C:/Users/Abhishek/Desktop/keras_try/Validation_images/6a4f7fff0c0ce2d3.jpg', 'C:/Users/Abhishek/Desktop/keras_try/Validation_images/6ab559c0610bfc74.jpg', 'C:/Users/Abhishek/Desktop/keras_try/Validation_images/6ac53cec25dfe51e.jpg', 'C:/Users/Abhishek/Desktop/keras_try/Validation_images/6b3b30dea3258cc0.jpg', 'C:/Users/Abhishek/Desktop/keras_try/Validation_images/6b76f6e6695cfc7c.jpg', 'C:/Users/Abhishek/Desktop/keras_try/Validation_images/6bb3d1a288e70931.jpg', 'C:/Users/Abhishek/Desktop/keras_try/Validation_images/6bf23f252d817312.jpg', 'C:/Users/Abhishek/Desktop/keras_try/Validation_images/6c136187826ba2e5.jpg', 'C:/Users/Abhishek/Desktop/keras_try/Validation_images/6d306a87d70b4322.jpg', 'C:/Users/Abhishek/Desktop/keras_try/Validation_images/6d8584e248432b7d.jpg', 'C:/Users/Abhishek/Desktop/keras_try/Validation_images/6ea91a3165a223b8.jpg', 'C:/Users/Abhishek/Desktop/keras_try/Validation_images/6fa733bb084e3495.jpg', 'C:/Users/Abhishek/Desktop/keras_try/Validation_images/71444395b09c6451.jpg', 'C:/Users/Abhishek/Desktop/keras_try/Validation_images/71be542e17daa60d.jpg', 'C:/Users/Abhishek/Desktop/keras_try/Validation_images/72504028d67b5153.jpg', 'C:/Users/Abhishek/Desktop/keras_try/Validation_images/752b6ec3217fcd3b.jpg', 'C:/Users/Abhishek/Desktop/keras_try/Validation_images/756a8df39d58978f.jpg', 'C:/Users/Abhishek/Desktop/keras_try/Validation_images/75ca19ea94fa51b6.jpg', 'C:/Users/Abhishek/Desktop/keras_try/Validation_images/75d9a02a3de21e5e.jpg', 'C:/Users/Abhishek/Desktop/keras_try/Validation_images/7601ff55f583a036.jpg', 'C:/Users/Abhishek/Desktop/keras_try/Validation_images/762e0b438394b278.jpg', 'C:/Users/Abhishek/Desktop/keras_try/Validation_images/782dfe4fec1912c0.jpg', 'C:/Users/Abhishek/Desktop/keras_try/Validation_images/78940146bc1df727.jpg', 'C:/Users/Abhishek/Desktop/keras_try/Validation_images/78fc3ebed180b5ff.jpg', 'C:/Users/Abhishek/Desktop/keras_try/Validation_images/7991cd0431b50212.jpg', 'C:/Users/Abhishek/Desktop/keras_try/Validation_images/7997b861c175cf01.jpg', 'C:/Users/Abhishek/Desktop/keras_try/Validation_images/79ceb80cb0ed979f.jpg', 'C:/Users/Abhishek/Desktop/keras_try/Validation_images/7aa64674eda4f2ac.jpg', 'C:/Users/Abhishek/Desktop/keras_try/Validation_images/7b72086e1d3c7b67.jpg', 'C:/Users/Abhishek/Desktop/keras_try/Validation_images/7b88d800a4846176.jpg', 'C:/Users/Abhishek/Desktop/keras_try/Validation_images/7d42c427de4046e1.jpg', 'C:/Users/Abhishek/Desktop/keras_try/Validation_images/7e7a2da3dfcfcecc.jpg', 'C:/Users/Abhishek/Desktop/keras_try/Validation_images/7ef541d099385ff4.jpg', 'C:/Users/Abhishek/Desktop/keras_try/Validation_images/7f73e3e715025677.jpg', 'C:/Users/Abhishek/Desktop/keras_try/Validation_images/7fb9752d32970cfc.jpg', 'C:/Users/Abhishek/Desktop/keras_try/Validation_images/80325c67f214c391.jpg', 'C:/Users/Abhishek/Desktop/keras_try/Validation_images/817143fc5a2e3d3a.jpg', 'C:/Users/Abhishek/Desktop/keras_try/Validation_images/81c3358fe3df9533.jpg', 'C:/Users/Abhishek/Desktop/keras_try/Validation_images/81e1b10e3fc54828.jpg', 'C:/Users/Abhishek/Desktop/keras_try/Validation_images/81eb0de87ed0c6a2.jpg', 'C:/Users/Abhishek/Desktop/keras_try/Validation_images/820b03c67bd361e3.jpg', 'C:/Users/Abhishek/Desktop/keras_try/Validation_images/82d4199463ffdbaf.jpg', 'C:/Users/Abhishek/Desktop/keras_try/Validation_images/833c4969183a4271.jpg', 'C:/Users/Abhishek/Desktop/keras_try/Validation_images/83760941ef95d00e.jpg', 'C:/Users/Abhishek/Desktop/keras_try/Validation_images/8497d67ed847a090.jpg', 'C:/Users/Abhishek/Desktop/keras_try/Validation_images/8519ccc88e125e04.jpg', 'C:/Users/Abhishek/Desktop/keras_try/Validation_images/85adbe272ee1d13c.jpg', 'C:/Users/Abhishek/Desktop/keras_try/Validation_images/85ea5096e234771c.jpg', 'C:/Users/Abhishek/Desktop/keras_try/Validation_images/861729d0f7c9a248.jpg', 'C:/Users/Abhishek/Desktop/keras_try/Validation_images/866793ccdd003919.jpg', 'C:/Users/Abhishek/Desktop/keras_try/Validation_images/86b484b0177d4477.jpg', 'C:/Users/Abhishek/Desktop/keras_try/Validation_images/87b924f6b80d74ba.jpg', 'C:/Users/Abhishek/Desktop/keras_try/Validation_images/8c9b27cd65913f6d.jpg', 'C:/Users/Abhishek/Desktop/keras_try/Validation_images/8ced4c0927a2b209.jpg', 'C:/Users/Abhishek/Desktop/keras_try/Validation_images/8d83faed4ab81ad5.jpg', 'C:/Users/Abhishek/Desktop/keras_try/Validation_images/8d8d97cc76219231.jpg', 'C:/Users/Abhishek/Desktop/keras_try/Validation_images/8f7cc15fc34261d0.jpg', 'C:/Users/Abhishek/Desktop/keras_try/Validation_images/8fc5f86b512ecaa9.jpg', 'C:/Users/Abhishek/Desktop/keras_try/Validation_images/8fd1aaf785d602a5.jpg', 'C:/Users/Abhishek/Desktop/keras_try/Validation_images/90c97010f9a825b3.jpg', 'C:/Users/Abhishek/Desktop/keras_try/Validation_images/9242d2b3c34e9552.jpg', 'C:/Users/Abhishek/Desktop/keras_try/Validation_images/96c04ba922200c50.jpg', 'C:/Users/Abhishek/Desktop/keras_try/Validation_images/96cde9696002d750.jpg', 'C:/Users/Abhishek/Desktop/keras_try/Validation_images/975501e813855822.jpg', 'C:/Users/Abhishek/Desktop/keras_try/Validation_images/9781238f682d5283.jpg', 'C:/Users/Abhishek/Desktop/keras_try/Validation_images/98203ef5135528f3.jpg', 'C:/Users/Abhishek/Desktop/keras_try/Validation_images/982a81cfcc3106b4.jpg', 'C:/Users/Abhishek/Desktop/keras_try/Validation_images/988c766b1eab8a77.jpg', 'C:/Users/Abhishek/Desktop/keras_try/Validation_images/9a86440bbee41ec2.jpg', 'C:/Users/Abhishek/Desktop/keras_try/Validation_images/9b47c94a3a650018.jpg', 'C:/Users/Abhishek/Desktop/keras_try/Validation_images/9c306f3102a5421a.jpg', 'C:/Users/Abhishek/Desktop/keras_try/Validation_images/9c6ca03c844793d0.jpg', 'C:/Users/Abhishek/Desktop/keras_try/Validation_images/9c86158d5c9333c1.jpg', 'C:/Users/Abhishek/Desktop/keras_try/Validation_images/9cd9c9e55e90c1c8.jpg', 'C:/Users/Abhishek/Desktop/keras_try/Validation_images/9d522ba4155071aa.jpg', 'C:/Users/Abhishek/Desktop/keras_try/Validation_images/9db622fc2a4b7f3a.jpg', 'C:/Users/Abhishek/Desktop/keras_try/Validation_images/9dcc7ce8a5d52f58.jpg', 'C:/Users/Abhishek/Desktop/keras_try/Validation_images/9e7ff72ca9013e77.jpg', 'C:/Users/Abhishek/Desktop/keras_try/Validation_images/9f2b37e491507317.jpg', 'C:/Users/Abhishek/Desktop/keras_try/Validation_images/9f4b75a35fb99397.jpg', 'C:/Users/Abhishek/Desktop/keras_try/Validation_images/a0cce636de7a4985.jpg', 'C:/Users/Abhishek/Desktop/keras_try/Validation_images/a0e0298f79cb9516.jpg', 'C:/Users/Abhishek/Desktop/keras_try/Validation_images/a100637b825dd714.jpg', 'C:/Users/Abhishek/Desktop/keras_try/Validation_images/a188e542244bd975.jpg', 'C:/Users/Abhishek/Desktop/keras_try/Validation_images/a38c4d08558f5193.jpg', 'C:/Users/Abhishek/Desktop/keras_try/Validation_images/a46325fd52f9105a.jpg', 'C:/Users/Abhishek/Desktop/keras_try/Validation_images/a50f4345838c27fe.jpg', 'C:/Users/Abhishek/Desktop/keras_try/Validation_images/a56e7d0417145b79.jpg', 'C:/Users/Abhishek/Desktop/keras_try/Validation_images/a5745388fda1b6bc.jpg', 'C:/Users/Abhishek/Desktop/keras_try/Validation_images/a5f08b44a86f31be.jpg', 'C:/Users/Abhishek/Desktop/keras_try/Validation_images/a68877d303000ac9.jpg', 'C:/Users/Abhishek/Desktop/keras_try/Validation_images/a7ca1cf271e77b83.jpg', 'C:/Users/Abhishek/Desktop/keras_try/Validation_images/a93f0b76c675408c.jpg', 'C:/Users/Abhishek/Desktop/keras_try/Validation_images/a9596e055ae694d1.jpg', 'C:/Users/Abhishek/Desktop/keras_try/Validation_images/aa9b253c5bedd875.jpg', 'C:/Users/Abhishek/Desktop/keras_try/Validation_images/ab5743502143df40.jpg', 'C:/Users/Abhishek/Desktop/keras_try/Validation_images/ab836e972bc51a0b.jpg', 'C:/Users/Abhishek/Desktop/keras_try/Validation_images/ac461ced5b819e97.jpg', 'C:/Users/Abhishek/Desktop/keras_try/Validation_images/adb9817c4d14039a.jpg', 'C:/Users/Abhishek/Desktop/keras_try/Validation_images/adfa16280c25b7b1.jpg', 'C:/Users/Abhishek/Desktop/keras_try/Validation_images/ae1f09896783e030.jpg', 'C:/Users/Abhishek/Desktop/keras_try/Validation_images/aec87c1ebf5d2267.jpg', 'C:/Users/Abhishek/Desktop/keras_try/Validation_images/aed9218501a8c8d9.jpg', 'C:/Users/Abhishek/Desktop/keras_try/Validation_images/af4810b3eef878c6.jpg', 'C:/Users/Abhishek/Desktop/keras_try/Validation_images/af5b10e6606eea55.jpg', 'C:/Users/Abhishek/Desktop/keras_try/Validation_images/afa37b6ce562571c.jpg', 'C:/Users/Abhishek/Desktop/keras_try/Validation_images/b0361ae132f2accc.jpg', 'C:/Users/Abhishek/Desktop/keras_try/Validation_images/b0a9aa0ba4d7b285.jpg', 'C:/Users/Abhishek/Desktop/keras_try/Validation_images/b0cdd8ba879c537f.jpg', 'C:/Users/Abhishek/Desktop/keras_try/Validation_images/b11dcb4cbc651b74.jpg', 'C:/Users/Abhishek/Desktop/keras_try/Validation_images/b29a0d5041a05987.jpg', 'C:/Users/Abhishek/Desktop/keras_try/Validation_images/b488d2f0621d8ce8.jpg', 'C:/Users/Abhishek/Desktop/keras_try/Validation_images/b4a6f8b588fba8af.jpg', 'C:/Users/Abhishek/Desktop/keras_try/Validation_images/b52dd34a22e573a0.jpg', 'C:/Users/Abhishek/Desktop/keras_try/Validation_images/b6a2c5dc9a35402f.jpg', 'C:/Users/Abhishek/Desktop/keras_try/Validation_images/b6a52c5a777b3b2e.jpg', 'C:/Users/Abhishek/Desktop/keras_try/Validation_images/b71af1b97e4b0ab7.jpg', 'C:/Users/Abhishek/Desktop/keras_try/Validation_images/b731edfce288e5eb.jpg', 'C:/Users/Abhishek/Desktop/keras_try/Validation_images/b74f6c1fbcf55521.jpg', 'C:/Users/Abhishek/Desktop/keras_try/Validation_images/b760d330ff3a0b0b.jpg', 'C:/Users/Abhishek/Desktop/keras_try/Validation_images/b87179c7f71e0708.jpg', 'C:/Users/Abhishek/Desktop/keras_try/Validation_images/b9c0700fdccdabca.jpg', 'C:/Users/Abhishek/Desktop/keras_try/Validation_images/b9ebc9784fa2af2a.jpg', 'C:/Users/Abhishek/Desktop/keras_try/Validation_images/b9ed30b789c45f58.jpg', 'C:/Users/Abhishek/Desktop/keras_try/Validation_images/ba769f6612573747.jpg', 'C:/Users/Abhishek/Desktop/keras_try/Validation_images/ba883ae43142c0ca.jpg', 'C:/Users/Abhishek/Desktop/keras_try/Validation_images/baca1012dd1e8f5d.jpg', 'C:/Users/Abhishek/Desktop/keras_try/Validation_images/bad8c4308d52c1c4.jpg', 'C:/Users/Abhishek/Desktop/keras_try/Validation_images/bb70e9e49a778bda.jpg', 'C:/Users/Abhishek/Desktop/keras_try/Validation_images/bc09edcc9b8b7b98.jpg', 'C:/Users/Abhishek/Desktop/keras_try/Validation_images/bc3792079071b3bd.jpg', 'C:/Users/Abhishek/Desktop/keras_try/Validation_images/bd02594a8a6d5a3a.jpg', 'C:/Users/Abhishek/Desktop/keras_try/Validation_images/bd0857d25095fc82.jpg', 'C:/Users/Abhishek/Desktop/keras_try/Validation_images/be5f6db7ce8f6c3c.jpg', 'C:/Users/Abhishek/Desktop/keras_try/Validation_images/c00b4dd4d000f84c.jpg', 'C:/Users/Abhishek/Desktop/keras_try/Validation_images/c0280207c74db2d4.jpg', 'C:/Users/Abhishek/Desktop/keras_try/Validation_images/c09e9a86af2f050c.jpg', 'C:/Users/Abhishek/Desktop/keras_try/Validation_images/c17d394d97db5be2.jpg', 'C:/Users/Abhishek/Desktop/keras_try/Validation_images/c35cadfae90b2caf.jpg', 'C:/Users/Abhishek/Desktop/keras_try/Validation_images/c367084e650aec5e.jpg', 'C:/Users/Abhishek/Desktop/keras_try/Validation_images/c3b441a0fbccbdcc.jpg', 'C:/Users/Abhishek/Desktop/keras_try/Validation_images/c4088ddf9c6c5359.jpg', 'C:/Users/Abhishek/Desktop/keras_try/Validation_images/c6c54bde284d4960.jpg', 'C:/Users/Abhishek/Desktop/keras_try/Validation_images/c8a158030002ad39.jpg', 'C:/Users/Abhishek/Desktop/keras_try/Validation_images/c92b64cd66c01874.jpg', 'C:/Users/Abhishek/Desktop/keras_try/Validation_images/c9ea8faa95fb4b31.jpg', 'C:/Users/Abhishek/Desktop/keras_try/Validation_images/ca12f1520d6dbf1b.jpg', 'C:/Users/Abhishek/Desktop/keras_try/Validation_images/ca16c9516af89e86.jpg', 'C:/Users/Abhishek/Desktop/keras_try/Validation_images/ca3ae8537374f967.jpg', 'C:/Users/Abhishek/Desktop/keras_try/Validation_images/ca585527195552ed.jpg', 'C:/Users/Abhishek/Desktop/keras_try/Validation_images/caca05fe939f2933.jpg', 'C:/Users/Abhishek/Desktop/keras_try/Validation_images/caed62dea1e5413a.jpg', 'C:/Users/Abhishek/Desktop/keras_try/Validation_images/cb9423d1375a9160.jpg', 'C:/Users/Abhishek/Desktop/keras_try/Validation_images/cbb16b6fcb53130e.jpg', 'C:/Users/Abhishek/Desktop/keras_try/Validation_images/cbf27e1648260c04.jpg', 'C:/Users/Abhishek/Desktop/keras_try/Validation_images/cc6757f28ce9f404.jpg', 'C:/Users/Abhishek/Desktop/keras_try/Validation_images/ccce373b01a440aa.jpg', 'C:/Users/Abhishek/Desktop/keras_try/Validation_images/cce7d3dceb528ec7.jpg', 'C:/Users/Abhishek/Desktop/keras_try/Validation_images/cd15ce292130435d.jpg', 'C:/Users/Abhishek/Desktop/keras_try/Validation_images/cd1ee8afdc54f306.jpg', 'C:/Users/Abhishek/Desktop/keras_try/Validation_images/cd2f978985fcbc73.jpg', 'C:/Users/Abhishek/Desktop/keras_try/Validation_images/cd97b5969584dc19.jpg', 'C:/Users/Abhishek/Desktop/keras_try/Validation_images/cdc1140e2e62ee6c.jpg', 'C:/Users/Abhishek/Desktop/keras_try/Validation_images/ce3b7e21ae96ffe4.jpg', 'C:/Users/Abhishek/Desktop/keras_try/Validation_images/ce89f7d918ac88ac.jpg', 'C:/Users/Abhishek/Desktop/keras_try/Validation_images/cf925ef7465eca4d.jpg', 'C:/Users/Abhishek/Desktop/keras_try/Validation_images/cfa6aeda1e0bfc9f.jpg', 'C:/Users/Abhishek/Desktop/keras_try/Validation_images/cfd3d95164b03970.jpg', 'C:/Users/Abhishek/Desktop/keras_try/Validation_images/d0da79ea3f2a3696.jpg', 'C:/Users/Abhishek/Desktop/keras_try/Validation_images/d106d859995657b6.jpg', 'C:/Users/Abhishek/Desktop/keras_try/Validation_images/d118d9cda43c1f11.jpg', 'C:/Users/Abhishek/Desktop/keras_try/Validation_images/d191e1a7926d7830.jpg', 'C:/Users/Abhishek/Desktop/keras_try/Validation_images/d19a65c6aee3f474.jpg', 'C:/Users/Abhishek/Desktop/keras_try/Validation_images/d223245bb7cd50a6.jpg', 'C:/Users/Abhishek/Desktop/keras_try/Validation_images/d2f4328ab1671e46.jpg', 'C:/Users/Abhishek/Desktop/keras_try/Validation_images/d3747932c57f75b7.jpg', 'C:/Users/Abhishek/Desktop/keras_try/Validation_images/d51107e21191365e.jpg', 'C:/Users/Abhishek/Desktop/keras_try/Validation_images/d5344348f098458f.jpg', 'C:/Users/Abhishek/Desktop/keras_try/Validation_images/d6b963795d5bf330.jpg', 'C:/Users/Abhishek/Desktop/keras_try/Validation_images/d6fd989d869c78da.jpg', 'C:/Users/Abhishek/Desktop/keras_try/Validation_images/d706733acb49df75.jpg', 'C:/Users/Abhishek/Desktop/keras_try/Validation_images/d87d578d10f3f3c6.jpg', 'C:/Users/Abhishek/Desktop/keras_try/Validation_images/d961969fdbd7a26b.jpg', 'C:/Users/Abhishek/Desktop/keras_try/Validation_images/d96949e682155665.jpg', 'C:/Users/Abhishek/Desktop/keras_try/Validation_images/da0708b79ffde0cc.jpg', 'C:/Users/Abhishek/Desktop/keras_try/Validation_images/da490fa91f5d3ab1.jpg', 'C:/Users/Abhishek/Desktop/keras_try/Validation_images/daca9bfe0c072eb3.jpg', 'C:/Users/Abhishek/Desktop/keras_try/Validation_images/db9b958bc3b1fbe1.jpg', 'C:/Users/Abhishek/Desktop/keras_try/Validation_images/dbd07d2ad90407c1.jpg', 'C:/Users/Abhishek/Desktop/keras_try/Validation_images/dc278cd2068e9e01.jpg', 'C:/Users/Abhishek/Desktop/keras_try/Validation_images/dcb477b54fb639b9.jpg', 'C:/Users/Abhishek/Desktop/keras_try/Validation_images/dcf0a4dae0d4881f.jpg', 'C:/Users/Abhishek/Desktop/keras_try/Validation_images/dd014761cbc7da94.jpg', 'C:/Users/Abhishek/Desktop/keras_try/Validation_images/dd1e12157259f80e.jpg', 'C:/Users/Abhishek/Desktop/keras_try/Validation_images/dd2a06e954925929.jpg', 'C:/Users/Abhishek/Desktop/keras_try/Validation_images/dd558645de1f55c0.jpg', 'C:/Users/Abhishek/Desktop/keras_try/Validation_images/dd60e4a9b5c931ea.jpg', 'C:/Users/Abhishek/Desktop/keras_try/Validation_images/df17f379876eb3ad.jpg', 'C:/Users/Abhishek/Desktop/keras_try/Validation_images/e08471b4f7e4ae0a.jpg', 'C:/Users/Abhishek/Desktop/keras_try/Validation_images/e10683244701dffa.jpg', 'C:/Users/Abhishek/Desktop/keras_try/Validation_images/e10f53754937956a.jpg', 'C:/Users/Abhishek/Desktop/keras_try/Validation_images/e2af828662e0f7c3.jpg', 'C:/Users/Abhishek/Desktop/keras_try/Validation_images/e3cb1fa757a6b101.jpg', 'C:/Users/Abhishek/Desktop/keras_try/Validation_images/e425e0fb69430646.jpg', 'C:/Users/Abhishek/Desktop/keras_try/Validation_images/e46ec5afe17b1db3.jpg', 'C:/Users/Abhishek/Desktop/keras_try/Validation_images/e4b453a8acde25dd.jpg', 'C:/Users/Abhishek/Desktop/keras_try/Validation_images/e67874eda4291943.jpg', 'C:/Users/Abhishek/Desktop/keras_try/Validation_images/e7a4f50dbed1ee64.jpg', 'C:/Users/Abhishek/Desktop/keras_try/Validation_images/e82f7ead86216be8.jpg', 'C:/Users/Abhishek/Desktop/keras_try/Validation_images/e866067effbcbad2.jpg', 'C:/Users/Abhishek/Desktop/keras_try/Validation_images/ea593b094aa13129.jpg', 'C:/Users/Abhishek/Desktop/keras_try/Validation_images/eb5e5597d7c2ea13.jpg', 'C:/Users/Abhishek/Desktop/keras_try/Validation_images/ec62b54f1997f081.jpg', 'C:/Users/Abhishek/Desktop/keras_try/Validation_images/ec6f494d4fc6e1db.jpg', 'C:/Users/Abhishek/Desktop/keras_try/Validation_images/ed24b067106f0a4f.jpg', 'C:/Users/Abhishek/Desktop/keras_try/Validation_images/ef1ae0a844beb494.jpg', 'C:/Users/Abhishek/Desktop/keras_try/Validation_images/efe2b20e964c0c15.jpg', 'C:/Users/Abhishek/Desktop/keras_try/Validation_images/efe53b6ac4bb4518.jpg', 'C:/Users/Abhishek/Desktop/keras_try/Validation_images/f158e6f481c27834.jpg', 'C:/Users/Abhishek/Desktop/keras_try/Validation_images/f1710cb352188505.jpg', 'C:/Users/Abhishek/Desktop/keras_try/Validation_images/f3048f3ef358dbf0.jpg', 'C:/Users/Abhishek/Desktop/keras_try/Validation_images/f3178116beec44b5.jpg', 'C:/Users/Abhishek/Desktop/keras_try/Validation_images/f32c4b68f2341c6c.jpg', 'C:/Users/Abhishek/Desktop/keras_try/Validation_images/f4001797979fcaf2.jpg', 'C:/Users/Abhishek/Desktop/keras_try/Validation_images/f53835335059bd4b.jpg', 'C:/Users/Abhishek/Desktop/keras_try/Validation_images/f5f4cf302cee7b9e.jpg', 'C:/Users/Abhishek/Desktop/keras_try/Validation_images/f82dbabd1a66cb2d.jpg', 'C:/Users/Abhishek/Desktop/keras_try/Validation_images/f86772c4b0b94dd2.jpg', 'C:/Users/Abhishek/Desktop/keras_try/Validation_images/f9f0de47b6f638c0.jpg', 'C:/Users/Abhishek/Desktop/keras_try/Validation_images/f9fed8cf1cad5d59.jpg', 'C:/Users/Abhishek/Desktop/keras_try/Validation_images/faddd26742a55ae7.jpg', 'C:/Users/Abhishek/Desktop/keras_try/Validation_images/fb47b8cf0ed46bfa.jpg', 'C:/Users/Abhishek/Desktop/keras_try/Validation_images/fb68218d9ee808cb.jpg', 'C:/Users/Abhishek/Desktop/keras_try/Validation_images/fc229976e28881ab.jpg', 'C:/Users/Abhishek/Desktop/keras_try/Validation_images/fc5f3f67ec4d9bae.jpg', 'C:/Users/Abhishek/Desktop/keras_try/Validation_images/fda4e5bbe773deb8.jpg', 'C:/Users/Abhishek/Desktop/keras_try/Validation_images/fe1b0059e2ca06bd.jpg', 'C:/Users/Abhishek/Desktop/keras_try/Validation_images/ff568126dd9c2c1d.jpg', 'C:/Users/Abhishek/Desktop/keras_try/Validation_images/ff7e6a3c8758c104.jpg']\n"
     ]
    }
   ],
   "source": [
    "validation_path = r\"C:\\Users\\Abhishek\\Desktop\\keras_try\\Validation_images\"\n",
    "\n",
    "all_files = os.listdir(validation_path)\n",
    "full_file_path = [validation_path+\"\\\\\"+each_file for each_file in all_files ]\n",
    "full_file_path =[each_file.replace('\\\\','/') for each_file in full_file_path]\n",
    "print(\"full_file_path\",len(full_file_path))\n",
    "\n",
    "\n",
    "# df_validation = pd.read_csv(r\"C:\\Users\\Abhishek\\Desktop\\keras_try\\Validation_sample.csv\")\n",
    "# print(df_validation.head())\n",
    "\n",
    "# valid_labels = []\n",
    "\n",
    "# for ind,each in enumerate(full_file_path):\n",
    "#     match = re.search(\"(?<={0}/)\\S+(?=.jpg)\".format(\"Validation_images\"),each)\n",
    "#     #print(match.group())\n",
    "#     uniq_id = df_validation[df_validation[\"id\"]==match.group()][\"landmark_id\"]\n",
    "#     #print(uniq_id)\n",
    "#     valid_labels.append(uniq_id)\n",
    "    \n",
    "# validation_tuple = tuple((full_file_path,valid_labels))\n",
    "# print(validation_tuple[0])\n",
    "\n",
    "#print(valid_df[\"label\"].shape)\n",
    "\n",
    "# valid_datagen = ImageDataGenerator(rescale=1/255)\n",
    "\n",
    "\n",
    "# valid_class_list = []\n",
    "\n",
    "# for each_list in valid_df[\"label\"]:\n",
    "#     for ind,each_value in enumerate(each_list):\n",
    "#         if each_value == 1:\n",
    "#             valid_class_list.append(str(ind))\n",
    "\n",
    "# valid_df[\"class\"] = valid_class_list\n",
    "\n",
    "\n",
    "#valid_pixel_dat_gen = valid_datagen.flow_from_dataframe(valid_df,directory=None,x_col = \"full file path\",y_col = \"class\",target_size=(128,128),class_mode='categorical',color_mode='rgb',batch_size=100)\n",
    "\n",
    "#hist = model.fit_generator(train_pixel_dat_gen,steps_per_epoch=18,epochs=18,validation_data=valid_pixel_dat_gen,validation_steps=8)\n",
    "\n"
   ]
  },
  {
   "cell_type": "code",
   "execution_count": 88,
   "metadata": {},
   "outputs": [
    {
     "ename": "AttributeError",
     "evalue": "'str' object has no attribute 'ndim'",
     "output_type": "error",
     "traceback": [
      "\u001b[1;31m---------------------------------------------------------------------------\u001b[0m",
      "\u001b[1;31mAttributeError\u001b[0m                            Traceback (most recent call last)",
      "\u001b[1;32m<ipython-input-88-6920bccaab63>\u001b[0m in \u001b[0;36m<module>\u001b[1;34m\u001b[0m\n\u001b[0;32m      8\u001b[0m                                verbose=1, save_best_only=True)\n\u001b[0;32m      9\u001b[0m \u001b[1;33m\u001b[0m\u001b[0m\n\u001b[1;32m---> 10\u001b[1;33m \u001b[0mhist\u001b[0m \u001b[1;33m=\u001b[0m \u001b[0mmodel\u001b[0m\u001b[1;33m.\u001b[0m\u001b[0mfit_generator\u001b[0m\u001b[1;33m(\u001b[0m\u001b[0mtrain_pixel_dat_gen\u001b[0m\u001b[1;33m,\u001b[0m \u001b[0msteps_per_epoch\u001b[0m\u001b[1;33m=\u001b[0m\u001b[1;36m10\u001b[0m\u001b[1;33m,\u001b[0m\u001b[0mepochs\u001b[0m\u001b[1;33m=\u001b[0m\u001b[1;36m10\u001b[0m\u001b[1;33m,\u001b[0m\u001b[0mvalidation_data\u001b[0m\u001b[1;33m=\u001b[0m\u001b[0mvalidation_tuple\u001b[0m\u001b[1;33m,\u001b[0m\u001b[0mvalidation_steps\u001b[0m\u001b[1;33m=\u001b[0m\u001b[1;32mNone\u001b[0m\u001b[1;33m)\u001b[0m\u001b[1;33m\u001b[0m\u001b[1;33m\u001b[0m\u001b[0m\n\u001b[0m",
      "\u001b[1;32mc:\\users\\abhishek\\desktop\\keras_try\\lib\\site-packages\\keras\\legacy\\interfaces.py\u001b[0m in \u001b[0;36mwrapper\u001b[1;34m(*args, **kwargs)\u001b[0m\n\u001b[0;32m     89\u001b[0m                 warnings.warn('Update your `' + object_name + '` call to the ' +\n\u001b[0;32m     90\u001b[0m                               'Keras 2 API: ' + signature, stacklevel=2)\n\u001b[1;32m---> 91\u001b[1;33m             \u001b[1;32mreturn\u001b[0m \u001b[0mfunc\u001b[0m\u001b[1;33m(\u001b[0m\u001b[1;33m*\u001b[0m\u001b[0margs\u001b[0m\u001b[1;33m,\u001b[0m \u001b[1;33m**\u001b[0m\u001b[0mkwargs\u001b[0m\u001b[1;33m)\u001b[0m\u001b[1;33m\u001b[0m\u001b[1;33m\u001b[0m\u001b[0m\n\u001b[0m\u001b[0;32m     92\u001b[0m         \u001b[0mwrapper\u001b[0m\u001b[1;33m.\u001b[0m\u001b[0m_original_function\u001b[0m \u001b[1;33m=\u001b[0m \u001b[0mfunc\u001b[0m\u001b[1;33m\u001b[0m\u001b[1;33m\u001b[0m\u001b[0m\n\u001b[0;32m     93\u001b[0m         \u001b[1;32mreturn\u001b[0m \u001b[0mwrapper\u001b[0m\u001b[1;33m\u001b[0m\u001b[1;33m\u001b[0m\u001b[0m\n",
      "\u001b[1;32mc:\\users\\abhishek\\desktop\\keras_try\\lib\\site-packages\\keras\\engine\\training.py\u001b[0m in \u001b[0;36mfit_generator\u001b[1;34m(self, generator, steps_per_epoch, epochs, verbose, callbacks, validation_data, validation_steps, class_weight, max_queue_size, workers, use_multiprocessing, shuffle, initial_epoch)\u001b[0m\n\u001b[0;32m   1416\u001b[0m             \u001b[0muse_multiprocessing\u001b[0m\u001b[1;33m=\u001b[0m\u001b[0muse_multiprocessing\u001b[0m\u001b[1;33m,\u001b[0m\u001b[1;33m\u001b[0m\u001b[1;33m\u001b[0m\u001b[0m\n\u001b[0;32m   1417\u001b[0m             \u001b[0mshuffle\u001b[0m\u001b[1;33m=\u001b[0m\u001b[0mshuffle\u001b[0m\u001b[1;33m,\u001b[0m\u001b[1;33m\u001b[0m\u001b[1;33m\u001b[0m\u001b[0m\n\u001b[1;32m-> 1418\u001b[1;33m             initial_epoch=initial_epoch)\n\u001b[0m\u001b[0;32m   1419\u001b[0m \u001b[1;33m\u001b[0m\u001b[0m\n\u001b[0;32m   1420\u001b[0m     \u001b[1;33m@\u001b[0m\u001b[0minterfaces\u001b[0m\u001b[1;33m.\u001b[0m\u001b[0mlegacy_generator_methods_support\u001b[0m\u001b[1;33m\u001b[0m\u001b[1;33m\u001b[0m\u001b[0m\n",
      "\u001b[1;32mc:\\users\\abhishek\\desktop\\keras_try\\lib\\site-packages\\keras\\engine\\training_generator.py\u001b[0m in \u001b[0;36mfit_generator\u001b[1;34m(model, generator, steps_per_epoch, epochs, verbose, callbacks, validation_data, validation_steps, class_weight, max_queue_size, workers, use_multiprocessing, shuffle, initial_epoch)\u001b[0m\n\u001b[0;32m    142\u001b[0m                                      str(validation_data))\n\u001b[0;32m    143\u001b[0m                 val_x, val_y, val_sample_weights = model._standardize_user_data(\n\u001b[1;32m--> 144\u001b[1;33m                     val_x, val_y, val_sample_weight)\n\u001b[0m\u001b[0;32m    145\u001b[0m                 \u001b[0mval_data\u001b[0m \u001b[1;33m=\u001b[0m \u001b[0mval_x\u001b[0m \u001b[1;33m+\u001b[0m \u001b[0mval_y\u001b[0m \u001b[1;33m+\u001b[0m \u001b[0mval_sample_weights\u001b[0m\u001b[1;33m\u001b[0m\u001b[1;33m\u001b[0m\u001b[0m\n\u001b[0;32m    146\u001b[0m                 if model.uses_learning_phase and not isinstance(K.learning_phase(),\n",
      "\u001b[1;32mc:\\users\\abhishek\\desktop\\keras_try\\lib\\site-packages\\keras\\engine\\training.py\u001b[0m in \u001b[0;36m_standardize_user_data\u001b[1;34m(self, x, y, sample_weight, class_weight, check_array_lengths, batch_size)\u001b[0m\n\u001b[0;32m    749\u001b[0m             \u001b[0mfeed_input_shapes\u001b[0m\u001b[1;33m,\u001b[0m\u001b[1;33m\u001b[0m\u001b[1;33m\u001b[0m\u001b[0m\n\u001b[0;32m    750\u001b[0m             \u001b[0mcheck_batch_axis\u001b[0m\u001b[1;33m=\u001b[0m\u001b[1;32mFalse\u001b[0m\u001b[1;33m,\u001b[0m  \u001b[1;31m# Don't enforce the batch size.\u001b[0m\u001b[1;33m\u001b[0m\u001b[1;33m\u001b[0m\u001b[0m\n\u001b[1;32m--> 751\u001b[1;33m             exception_prefix='input')\n\u001b[0m\u001b[0;32m    752\u001b[0m \u001b[1;33m\u001b[0m\u001b[0m\n\u001b[0;32m    753\u001b[0m         \u001b[1;32mif\u001b[0m \u001b[0my\u001b[0m \u001b[1;32mis\u001b[0m \u001b[1;32mnot\u001b[0m \u001b[1;32mNone\u001b[0m\u001b[1;33m:\u001b[0m\u001b[1;33m\u001b[0m\u001b[1;33m\u001b[0m\u001b[0m\n",
      "\u001b[1;32mc:\\users\\abhishek\\desktop\\keras_try\\lib\\site-packages\\keras\\engine\\training_utils.py\u001b[0m in \u001b[0;36mstandardize_input_data\u001b[1;34m(data, names, shapes, check_batch_axis, exception_prefix)\u001b[0m\n\u001b[0;32m     90\u001b[0m         \u001b[0mdata\u001b[0m \u001b[1;33m=\u001b[0m \u001b[0mdata\u001b[0m\u001b[1;33m.\u001b[0m\u001b[0mvalues\u001b[0m \u001b[1;32mif\u001b[0m \u001b[0mdata\u001b[0m\u001b[1;33m.\u001b[0m\u001b[0m__class__\u001b[0m\u001b[1;33m.\u001b[0m\u001b[0m__name__\u001b[0m \u001b[1;33m==\u001b[0m \u001b[1;34m'DataFrame'\u001b[0m \u001b[1;32melse\u001b[0m \u001b[0mdata\u001b[0m\u001b[1;33m\u001b[0m\u001b[1;33m\u001b[0m\u001b[0m\n\u001b[0;32m     91\u001b[0m         \u001b[0mdata\u001b[0m \u001b[1;33m=\u001b[0m \u001b[1;33m[\u001b[0m\u001b[0mdata\u001b[0m\u001b[1;33m]\u001b[0m\u001b[1;33m\u001b[0m\u001b[1;33m\u001b[0m\u001b[0m\n\u001b[1;32m---> 92\u001b[1;33m     \u001b[0mdata\u001b[0m \u001b[1;33m=\u001b[0m \u001b[1;33m[\u001b[0m\u001b[0mstandardize_single_array\u001b[0m\u001b[1;33m(\u001b[0m\u001b[0mx\u001b[0m\u001b[1;33m)\u001b[0m \u001b[1;32mfor\u001b[0m \u001b[0mx\u001b[0m \u001b[1;32min\u001b[0m \u001b[0mdata\u001b[0m\u001b[1;33m]\u001b[0m\u001b[1;33m\u001b[0m\u001b[1;33m\u001b[0m\u001b[0m\n\u001b[0m\u001b[0;32m     93\u001b[0m \u001b[1;33m\u001b[0m\u001b[0m\n\u001b[0;32m     94\u001b[0m     \u001b[1;32mif\u001b[0m \u001b[0mlen\u001b[0m\u001b[1;33m(\u001b[0m\u001b[0mdata\u001b[0m\u001b[1;33m)\u001b[0m \u001b[1;33m!=\u001b[0m \u001b[0mlen\u001b[0m\u001b[1;33m(\u001b[0m\u001b[0mnames\u001b[0m\u001b[1;33m)\u001b[0m\u001b[1;33m:\u001b[0m\u001b[1;33m\u001b[0m\u001b[1;33m\u001b[0m\u001b[0m\n",
      "\u001b[1;32mc:\\users\\abhishek\\desktop\\keras_try\\lib\\site-packages\\keras\\engine\\training_utils.py\u001b[0m in \u001b[0;36m<listcomp>\u001b[1;34m(.0)\u001b[0m\n\u001b[0;32m     90\u001b[0m         \u001b[0mdata\u001b[0m \u001b[1;33m=\u001b[0m \u001b[0mdata\u001b[0m\u001b[1;33m.\u001b[0m\u001b[0mvalues\u001b[0m \u001b[1;32mif\u001b[0m \u001b[0mdata\u001b[0m\u001b[1;33m.\u001b[0m\u001b[0m__class__\u001b[0m\u001b[1;33m.\u001b[0m\u001b[0m__name__\u001b[0m \u001b[1;33m==\u001b[0m \u001b[1;34m'DataFrame'\u001b[0m \u001b[1;32melse\u001b[0m \u001b[0mdata\u001b[0m\u001b[1;33m\u001b[0m\u001b[1;33m\u001b[0m\u001b[0m\n\u001b[0;32m     91\u001b[0m         \u001b[0mdata\u001b[0m \u001b[1;33m=\u001b[0m \u001b[1;33m[\u001b[0m\u001b[0mdata\u001b[0m\u001b[1;33m]\u001b[0m\u001b[1;33m\u001b[0m\u001b[1;33m\u001b[0m\u001b[0m\n\u001b[1;32m---> 92\u001b[1;33m     \u001b[0mdata\u001b[0m \u001b[1;33m=\u001b[0m \u001b[1;33m[\u001b[0m\u001b[0mstandardize_single_array\u001b[0m\u001b[1;33m(\u001b[0m\u001b[0mx\u001b[0m\u001b[1;33m)\u001b[0m \u001b[1;32mfor\u001b[0m \u001b[0mx\u001b[0m \u001b[1;32min\u001b[0m \u001b[0mdata\u001b[0m\u001b[1;33m]\u001b[0m\u001b[1;33m\u001b[0m\u001b[1;33m\u001b[0m\u001b[0m\n\u001b[0m\u001b[0;32m     93\u001b[0m \u001b[1;33m\u001b[0m\u001b[0m\n\u001b[0;32m     94\u001b[0m     \u001b[1;32mif\u001b[0m \u001b[0mlen\u001b[0m\u001b[1;33m(\u001b[0m\u001b[0mdata\u001b[0m\u001b[1;33m)\u001b[0m \u001b[1;33m!=\u001b[0m \u001b[0mlen\u001b[0m\u001b[1;33m(\u001b[0m\u001b[0mnames\u001b[0m\u001b[1;33m)\u001b[0m\u001b[1;33m:\u001b[0m\u001b[1;33m\u001b[0m\u001b[1;33m\u001b[0m\u001b[0m\n",
      "\u001b[1;32mc:\\users\\abhishek\\desktop\\keras_try\\lib\\site-packages\\keras\\engine\\training_utils.py\u001b[0m in \u001b[0;36mstandardize_single_array\u001b[1;34m(x)\u001b[0m\n\u001b[0;32m     25\u001b[0m                 'Got tensor with shape: %s' % str(shape))\n\u001b[0;32m     26\u001b[0m         \u001b[1;32mreturn\u001b[0m \u001b[0mx\u001b[0m\u001b[1;33m\u001b[0m\u001b[1;33m\u001b[0m\u001b[0m\n\u001b[1;32m---> 27\u001b[1;33m     \u001b[1;32melif\u001b[0m \u001b[0mx\u001b[0m\u001b[1;33m.\u001b[0m\u001b[0mndim\u001b[0m \u001b[1;33m==\u001b[0m \u001b[1;36m1\u001b[0m\u001b[1;33m:\u001b[0m\u001b[1;33m\u001b[0m\u001b[1;33m\u001b[0m\u001b[0m\n\u001b[0m\u001b[0;32m     28\u001b[0m         \u001b[0mx\u001b[0m \u001b[1;33m=\u001b[0m \u001b[0mnp\u001b[0m\u001b[1;33m.\u001b[0m\u001b[0mexpand_dims\u001b[0m\u001b[1;33m(\u001b[0m\u001b[0mx\u001b[0m\u001b[1;33m,\u001b[0m \u001b[1;36m1\u001b[0m\u001b[1;33m)\u001b[0m\u001b[1;33m\u001b[0m\u001b[1;33m\u001b[0m\u001b[0m\n\u001b[0;32m     29\u001b[0m     \u001b[1;32mreturn\u001b[0m \u001b[0mx\u001b[0m\u001b[1;33m\u001b[0m\u001b[1;33m\u001b[0m\u001b[0m\n",
      "\u001b[1;31mAttributeError\u001b[0m: 'str' object has no attribute 'ndim'"
     ]
    }
   ],
   "source": [
    "## Model Training \n",
    "\n",
    "from keras.callbacks import ModelCheckpoint\n",
    "\n",
    "epochs = 10\n",
    "\n",
    "checkpointer = ModelCheckpoint(filepath='saved_models/weights.best.from_baseCNN.hdf5', \n",
    "                               verbose=1, save_best_only=True)\n",
    "\n",
    "hist = model.fit_generator(train_pixel_dat_gen, steps_per_epoch=10,epochs=10,validation_data=validation_tuple,validation_steps=None)"
   ]
  }
 ],
 "metadata": {
  "kernelspec": {
   "display_name": "Python 3",
   "language": "python",
   "name": "python3"
  },
  "language_info": {
   "codemirror_mode": {
    "name": "ipython",
    "version": 3
   },
   "file_extension": ".py",
   "mimetype": "text/x-python",
   "name": "python",
   "nbconvert_exporter": "python",
   "pygments_lexer": "ipython3",
   "version": "3.7.3"
  }
 },
 "nbformat": 4,
 "nbformat_minor": 2
}
