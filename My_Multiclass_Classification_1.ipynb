{
  "nbformat": 4,
  "nbformat_minor": 0,
  "metadata": {
    "colab": {
      "name": "My_Multiclass_Classification-1.ipynb",
      "provenance": [],
      "collapsed_sections": [
        "1gZew-9_tQs9",
        "JtmuyK3FdTs1"
      ],
      "authorship_tag": "ABX9TyOcP4ljSWb0J6eZnCC6qCzT",
      "include_colab_link": true
    },
    "kernelspec": {
      "name": "python3",
      "display_name": "Python 3"
    },
    "widgets": {
      "application/vnd.jupyter.widget-state+json": {
        "f4b208fe4cfe49e5b5c49cf6e9e38ddd": {
          "model_module": "@jupyter-widgets/controls",
          "model_name": "HBoxModel",
          "state": {
            "_view_name": "HBoxView",
            "_dom_classes": [],
            "_model_name": "HBoxModel",
            "_view_module": "@jupyter-widgets/controls",
            "_model_module_version": "1.5.0",
            "_view_count": null,
            "_view_module_version": "1.5.0",
            "box_style": "",
            "layout": "IPY_MODEL_6099f5b53a3a440fbaea15ecc254256a",
            "_model_module": "@jupyter-widgets/controls",
            "children": [
              "IPY_MODEL_2a84bf638523485f95fd389515b3753b",
              "IPY_MODEL_87f8c93c96094b06832c2a1fb584d473"
            ]
          }
        },
        "6099f5b53a3a440fbaea15ecc254256a": {
          "model_module": "@jupyter-widgets/base",
          "model_name": "LayoutModel",
          "state": {
            "_view_name": "LayoutView",
            "grid_template_rows": null,
            "right": null,
            "justify_content": null,
            "_view_module": "@jupyter-widgets/base",
            "overflow": null,
            "_model_module_version": "1.2.0",
            "_view_count": null,
            "flex_flow": null,
            "width": null,
            "min_width": null,
            "border": null,
            "align_items": null,
            "bottom": null,
            "_model_module": "@jupyter-widgets/base",
            "top": null,
            "grid_column": null,
            "overflow_y": null,
            "overflow_x": null,
            "grid_auto_flow": null,
            "grid_area": null,
            "grid_template_columns": null,
            "flex": null,
            "_model_name": "LayoutModel",
            "justify_items": null,
            "grid_row": null,
            "max_height": null,
            "align_content": null,
            "visibility": null,
            "align_self": null,
            "height": null,
            "min_height": null,
            "padding": null,
            "grid_auto_rows": null,
            "grid_gap": null,
            "max_width": null,
            "order": null,
            "_view_module_version": "1.2.0",
            "grid_template_areas": null,
            "object_position": null,
            "object_fit": null,
            "grid_auto_columns": null,
            "margin": null,
            "display": null,
            "left": null
          }
        },
        "2a84bf638523485f95fd389515b3753b": {
          "model_module": "@jupyter-widgets/controls",
          "model_name": "IntProgressModel",
          "state": {
            "_view_name": "ProgressView",
            "style": "IPY_MODEL_5a510f6cb03d44b38f4daf6ad541738d",
            "_dom_classes": [],
            "description": "100%",
            "_model_name": "IntProgressModel",
            "bar_style": "success",
            "max": 4000,
            "_view_module": "@jupyter-widgets/controls",
            "_model_module_version": "1.5.0",
            "value": 4000,
            "_view_count": null,
            "_view_module_version": "1.5.0",
            "orientation": "horizontal",
            "min": 0,
            "description_tooltip": null,
            "_model_module": "@jupyter-widgets/controls",
            "layout": "IPY_MODEL_796c356241aa46398c1b174b2b2648a6"
          }
        },
        "87f8c93c96094b06832c2a1fb584d473": {
          "model_module": "@jupyter-widgets/controls",
          "model_name": "HTMLModel",
          "state": {
            "_view_name": "HTMLView",
            "style": "IPY_MODEL_fd6ebf06f3f44b0897da8133912c1bda",
            "_dom_classes": [],
            "description": "",
            "_model_name": "HTMLModel",
            "placeholder": "​",
            "_view_module": "@jupyter-widgets/controls",
            "_model_module_version": "1.5.0",
            "value": " 4000/4000 [04:27&lt;00:00, 14.93epoch/s]",
            "_view_count": null,
            "_view_module_version": "1.5.0",
            "description_tooltip": null,
            "_model_module": "@jupyter-widgets/controls",
            "layout": "IPY_MODEL_d3d425cfdc54433d947c900bea0b0a7b"
          }
        },
        "5a510f6cb03d44b38f4daf6ad541738d": {
          "model_module": "@jupyter-widgets/controls",
          "model_name": "ProgressStyleModel",
          "state": {
            "_view_name": "StyleView",
            "_model_name": "ProgressStyleModel",
            "description_width": "initial",
            "_view_module": "@jupyter-widgets/base",
            "_model_module_version": "1.5.0",
            "_view_count": null,
            "_view_module_version": "1.2.0",
            "bar_color": null,
            "_model_module": "@jupyter-widgets/controls"
          }
        },
        "796c356241aa46398c1b174b2b2648a6": {
          "model_module": "@jupyter-widgets/base",
          "model_name": "LayoutModel",
          "state": {
            "_view_name": "LayoutView",
            "grid_template_rows": null,
            "right": null,
            "justify_content": null,
            "_view_module": "@jupyter-widgets/base",
            "overflow": null,
            "_model_module_version": "1.2.0",
            "_view_count": null,
            "flex_flow": null,
            "width": null,
            "min_width": null,
            "border": null,
            "align_items": null,
            "bottom": null,
            "_model_module": "@jupyter-widgets/base",
            "top": null,
            "grid_column": null,
            "overflow_y": null,
            "overflow_x": null,
            "grid_auto_flow": null,
            "grid_area": null,
            "grid_template_columns": null,
            "flex": null,
            "_model_name": "LayoutModel",
            "justify_items": null,
            "grid_row": null,
            "max_height": null,
            "align_content": null,
            "visibility": null,
            "align_self": null,
            "height": null,
            "min_height": null,
            "padding": null,
            "grid_auto_rows": null,
            "grid_gap": null,
            "max_width": null,
            "order": null,
            "_view_module_version": "1.2.0",
            "grid_template_areas": null,
            "object_position": null,
            "object_fit": null,
            "grid_auto_columns": null,
            "margin": null,
            "display": null,
            "left": null
          }
        },
        "fd6ebf06f3f44b0897da8133912c1bda": {
          "model_module": "@jupyter-widgets/controls",
          "model_name": "DescriptionStyleModel",
          "state": {
            "_view_name": "StyleView",
            "_model_name": "DescriptionStyleModel",
            "description_width": "",
            "_view_module": "@jupyter-widgets/base",
            "_model_module_version": "1.5.0",
            "_view_count": null,
            "_view_module_version": "1.2.0",
            "_model_module": "@jupyter-widgets/controls"
          }
        },
        "d3d425cfdc54433d947c900bea0b0a7b": {
          "model_module": "@jupyter-widgets/base",
          "model_name": "LayoutModel",
          "state": {
            "_view_name": "LayoutView",
            "grid_template_rows": null,
            "right": null,
            "justify_content": null,
            "_view_module": "@jupyter-widgets/base",
            "overflow": null,
            "_model_module_version": "1.2.0",
            "_view_count": null,
            "flex_flow": null,
            "width": null,
            "min_width": null,
            "border": null,
            "align_items": null,
            "bottom": null,
            "_model_module": "@jupyter-widgets/base",
            "top": null,
            "grid_column": null,
            "overflow_y": null,
            "overflow_x": null,
            "grid_auto_flow": null,
            "grid_area": null,
            "grid_template_columns": null,
            "flex": null,
            "_model_name": "LayoutModel",
            "justify_items": null,
            "grid_row": null,
            "max_height": null,
            "align_content": null,
            "visibility": null,
            "align_self": null,
            "height": null,
            "min_height": null,
            "padding": null,
            "grid_auto_rows": null,
            "grid_gap": null,
            "max_width": null,
            "order": null,
            "_view_module_version": "1.2.0",
            "grid_template_areas": null,
            "object_position": null,
            "object_fit": null,
            "grid_auto_columns": null,
            "margin": null,
            "display": null,
            "left": null
          }
        },
        "72dd65992a154c9cbb1c14e3dbc82117": {
          "model_module": "@jupyter-widgets/controls",
          "model_name": "HBoxModel",
          "state": {
            "_view_name": "HBoxView",
            "_dom_classes": [],
            "_model_name": "HBoxModel",
            "_view_module": "@jupyter-widgets/controls",
            "_model_module_version": "1.5.0",
            "_view_count": null,
            "_view_module_version": "1.5.0",
            "box_style": "",
            "layout": "IPY_MODEL_34756a29ce4e4af982cd4873bfcdd60d",
            "_model_module": "@jupyter-widgets/controls",
            "children": [
              "IPY_MODEL_dbf0ca4b630649f79373e2e4e6c87dd1",
              "IPY_MODEL_cb6e6b6e8ab34b7885a043fc811a0e81"
            ]
          }
        },
        "34756a29ce4e4af982cd4873bfcdd60d": {
          "model_module": "@jupyter-widgets/base",
          "model_name": "LayoutModel",
          "state": {
            "_view_name": "LayoutView",
            "grid_template_rows": null,
            "right": null,
            "justify_content": null,
            "_view_module": "@jupyter-widgets/base",
            "overflow": null,
            "_model_module_version": "1.2.0",
            "_view_count": null,
            "flex_flow": null,
            "width": null,
            "min_width": null,
            "border": null,
            "align_items": null,
            "bottom": null,
            "_model_module": "@jupyter-widgets/base",
            "top": null,
            "grid_column": null,
            "overflow_y": null,
            "overflow_x": null,
            "grid_auto_flow": null,
            "grid_area": null,
            "grid_template_columns": null,
            "flex": null,
            "_model_name": "LayoutModel",
            "justify_items": null,
            "grid_row": null,
            "max_height": null,
            "align_content": null,
            "visibility": null,
            "align_self": null,
            "height": null,
            "min_height": null,
            "padding": null,
            "grid_auto_rows": null,
            "grid_gap": null,
            "max_width": null,
            "order": null,
            "_view_module_version": "1.2.0",
            "grid_template_areas": null,
            "object_position": null,
            "object_fit": null,
            "grid_auto_columns": null,
            "margin": null,
            "display": null,
            "left": null
          }
        },
        "dbf0ca4b630649f79373e2e4e6c87dd1": {
          "model_module": "@jupyter-widgets/controls",
          "model_name": "IntProgressModel",
          "state": {
            "_view_name": "ProgressView",
            "style": "IPY_MODEL_33d02a4027ca4af19ca0f77030d47388",
            "_dom_classes": [],
            "description": "100%",
            "_model_name": "IntProgressModel",
            "bar_style": "success",
            "max": 2000,
            "_view_module": "@jupyter-widgets/controls",
            "_model_module_version": "1.5.0",
            "value": 2000,
            "_view_count": null,
            "_view_module_version": "1.5.0",
            "orientation": "horizontal",
            "min": 0,
            "description_tooltip": null,
            "_model_module": "@jupyter-widgets/controls",
            "layout": "IPY_MODEL_4e2eee039a4d4e0897c3fd98384f3968"
          }
        },
        "cb6e6b6e8ab34b7885a043fc811a0e81": {
          "model_module": "@jupyter-widgets/controls",
          "model_name": "HTMLModel",
          "state": {
            "_view_name": "HTMLView",
            "style": "IPY_MODEL_8de2656dff9843f0b4e3a24150b17817",
            "_dom_classes": [],
            "description": "",
            "_model_name": "HTMLModel",
            "placeholder": "​",
            "_view_module": "@jupyter-widgets/controls",
            "_model_module_version": "1.5.0",
            "value": " 2000/2000 [00:03&lt;00:00, 635.91epoch/s]",
            "_view_count": null,
            "_view_module_version": "1.5.0",
            "description_tooltip": null,
            "_model_module": "@jupyter-widgets/controls",
            "layout": "IPY_MODEL_b0af4362a2144291aa39df1a794ff4ff"
          }
        },
        "33d02a4027ca4af19ca0f77030d47388": {
          "model_module": "@jupyter-widgets/controls",
          "model_name": "ProgressStyleModel",
          "state": {
            "_view_name": "StyleView",
            "_model_name": "ProgressStyleModel",
            "description_width": "initial",
            "_view_module": "@jupyter-widgets/base",
            "_model_module_version": "1.5.0",
            "_view_count": null,
            "_view_module_version": "1.2.0",
            "bar_color": null,
            "_model_module": "@jupyter-widgets/controls"
          }
        },
        "4e2eee039a4d4e0897c3fd98384f3968": {
          "model_module": "@jupyter-widgets/base",
          "model_name": "LayoutModel",
          "state": {
            "_view_name": "LayoutView",
            "grid_template_rows": null,
            "right": null,
            "justify_content": null,
            "_view_module": "@jupyter-widgets/base",
            "overflow": null,
            "_model_module_version": "1.2.0",
            "_view_count": null,
            "flex_flow": null,
            "width": null,
            "min_width": null,
            "border": null,
            "align_items": null,
            "bottom": null,
            "_model_module": "@jupyter-widgets/base",
            "top": null,
            "grid_column": null,
            "overflow_y": null,
            "overflow_x": null,
            "grid_auto_flow": null,
            "grid_area": null,
            "grid_template_columns": null,
            "flex": null,
            "_model_name": "LayoutModel",
            "justify_items": null,
            "grid_row": null,
            "max_height": null,
            "align_content": null,
            "visibility": null,
            "align_self": null,
            "height": null,
            "min_height": null,
            "padding": null,
            "grid_auto_rows": null,
            "grid_gap": null,
            "max_width": null,
            "order": null,
            "_view_module_version": "1.2.0",
            "grid_template_areas": null,
            "object_position": null,
            "object_fit": null,
            "grid_auto_columns": null,
            "margin": null,
            "display": null,
            "left": null
          }
        },
        "8de2656dff9843f0b4e3a24150b17817": {
          "model_module": "@jupyter-widgets/controls",
          "model_name": "DescriptionStyleModel",
          "state": {
            "_view_name": "StyleView",
            "_model_name": "DescriptionStyleModel",
            "description_width": "",
            "_view_module": "@jupyter-widgets/base",
            "_model_module_version": "1.5.0",
            "_view_count": null,
            "_view_module_version": "1.2.0",
            "_model_module": "@jupyter-widgets/controls"
          }
        },
        "b0af4362a2144291aa39df1a794ff4ff": {
          "model_module": "@jupyter-widgets/base",
          "model_name": "LayoutModel",
          "state": {
            "_view_name": "LayoutView",
            "grid_template_rows": null,
            "right": null,
            "justify_content": null,
            "_view_module": "@jupyter-widgets/base",
            "overflow": null,
            "_model_module_version": "1.2.0",
            "_view_count": null,
            "flex_flow": null,
            "width": null,
            "min_width": null,
            "border": null,
            "align_items": null,
            "bottom": null,
            "_model_module": "@jupyter-widgets/base",
            "top": null,
            "grid_column": null,
            "overflow_y": null,
            "overflow_x": null,
            "grid_auto_flow": null,
            "grid_area": null,
            "grid_template_columns": null,
            "flex": null,
            "_model_name": "LayoutModel",
            "justify_items": null,
            "grid_row": null,
            "max_height": null,
            "align_content": null,
            "visibility": null,
            "align_self": null,
            "height": null,
            "min_height": null,
            "padding": null,
            "grid_auto_rows": null,
            "grid_gap": null,
            "max_width": null,
            "order": null,
            "_view_module_version": "1.2.0",
            "grid_template_areas": null,
            "object_position": null,
            "object_fit": null,
            "grid_auto_columns": null,
            "margin": null,
            "display": null,
            "left": null
          }
        }
      }
    }
  },
  "cells": [
    {
      "cell_type": "markdown",
      "metadata": {
        "id": "view-in-github",
        "colab_type": "text"
      },
      "source": [
        "<a href=\"https://colab.research.google.com/github/abhiramangit/Imag_reco/blob/master/My_Multiclass_Classification_1.ipynb\" target=\"_parent\"><img src=\"https://colab.research.google.com/assets/colab-badge.svg\" alt=\"Open In Colab\"/></a>"
      ]
    },
    {
      "cell_type": "code",
      "metadata": {
        "id": "dsYbM8xA-oas",
        "colab_type": "code",
        "outputId": "00b9c271-3dd0-46bd-d9e1-91a4f6d585f5",
        "colab": {
          "base_uri": "https://localhost:8080/",
          "height": 74
        }
      },
      "source": [
        "from sklearn import datasets\n",
        "import matplotlib\n",
        "from sklearn.preprocessing import OneHotEncoder\n",
        "from sklearn.model_selection import train_test_split\n",
        "import matplotlib.pyplot as plt\n",
        "import numpy as np\n",
        "from sklearn.metrics import accuracy_score, mean_squared_error, log_loss\n",
        "from tqdm import tqdm_notebook \n",
        "import seaborn as sns\n",
        "import imageio\n",
        "import time"
      ],
      "execution_count": 1,
      "outputs": [
        {
          "output_type": "stream",
          "text": [
            "/usr/local/lib/python3.6/dist-packages/statsmodels/tools/_testing.py:19: FutureWarning: pandas.util.testing is deprecated. Use the functions in the public API at pandas.testing instead.\n",
            "  import pandas.util.testing as tm\n"
          ],
          "name": "stderr"
        }
      ]
    },
    {
      "cell_type": "code",
      "metadata": {
        "id": "BekKA6f1BHAR",
        "colab_type": "code",
        "colab": {
          "base_uri": "https://localhost:8080/",
          "height": 54
        },
        "outputId": "22ea1e77-0fac-46aa-f244-52c8dafc5bbf"
      },
      "source": [
        "## Make Blob Dataset\n",
        "\n",
        "attr,labels = datasets.make_blobs(1000,2,centers=4)\n",
        "print(attr.shape,labels.shape)\n",
        "print(labels[0:10])"
      ],
      "execution_count": 27,
      "outputs": [
        {
          "output_type": "stream",
          "text": [
            "(1000, 2) (1000,)\n",
            "[2 2 3 0 2 3 0 2 0 2]\n"
          ],
          "name": "stdout"
        }
      ]
    },
    {
      "cell_type": "code",
      "metadata": {
        "id": "IdEj5WmkX1sW",
        "colab_type": "code",
        "colab": {
          "base_uri": "https://localhost:8080/",
          "height": 267
        },
        "outputId": "4d621c9e-e7c9-4485-9fa4-14315dc6da62"
      },
      "source": [
        "## Plot Data points \n",
        "my_cmap = matplotlib.colors.LinearSegmentedColormap.from_list(\"\",[\"red\",\"green\",\"blue\",\"yellow\"])\n",
        "plt.scatter(attr[:,0],attr[:,1],c = labels,cmap=my_cmap)\n",
        "plt.show()"
      ],
      "execution_count": 28,
      "outputs": [
        {
          "output_type": "display_data",
          "data": {
            "image/png": "[encoded data removed]",
            "text/plain": [
              "<Figure size 432x288 with 1 Axes>"
            ]
          },
          "metadata": {
            "tags": []
          }
        }
      ]
    },
    {
      "cell_type": "code",
      "metadata": {
        "id": "pBx9KtsSD77p",
        "colab_type": "code",
        "colab": {
          "base_uri": "https://localhost:8080/",
          "height": 35
        },
        "outputId": "e346f100-0295-4b6f-80f4-a827606e6d0b"
      },
      "source": [
        "## Split Train & Test \n",
        "X_train,X_test,Y_train,Y_test = train_test_split(attr,labels,random_state=1,stratify=labels)\n",
        "print(X_train.shape,Y_train.shape)"
      ],
      "execution_count": 65,
      "outputs": [
        {
          "output_type": "stream",
          "text": [
            "(750, 2) (750,)\n"
          ],
          "name": "stdout"
        }
      ]
    },
    {
      "cell_type": "code",
      "metadata": {
        "id": "k6uX-OMMCSPO",
        "colab_type": "code",
        "colab": {
          "base_uri": "https://localhost:8080/",
          "height": 54
        },
        "outputId": "ff67dd99-661c-4bff-8c4a-9d93d93b1289"
      },
      "source": [
        "## Hot Encode the Labels \n",
        "enc = OneHotEncoder()\n",
        "Y_OH_train = enc.fit_transform(np.expand_dims(Y_train,1)).toarray()\n",
        "print(Y_OH_train.shape)\n",
        "Y_OH_test = enc.fit_transform(np.expand_dims(Y_test,1)).toarray()\n",
        "print(Y_OH_test.shape)"
      ],
      "execution_count": 66,
      "outputs": [
        {
          "output_type": "stream",
          "text": [
            "(750, 4)\n",
            "(250, 4)\n"
          ],
          "name": "stdout"
        }
      ]
    },
    {
      "cell_type": "markdown",
      "metadata": {
        "id": "1gZew-9_tQs9",
        "colab_type": "text"
      },
      "source": [
        "# MULTI CLASS SPECIFIC"
      ]
    },
    {
      "cell_type": "code",
      "metadata": {
        "id": "XzSv-5PlE3BH",
        "colab_type": "code",
        "colab": {}
      },
      "source": [
        "class FFSN_MultiClass_Specific:\n",
        "  \n",
        "  def __init__(self):\n",
        "    np.random.seed(0)\n",
        "    self.w1 = np.random.randn()\n",
        "    self.w2 = np.random.randn()\n",
        "    self.w3 = np.random.randn()\n",
        "    self.w4 = np.random.randn()\n",
        "    self.w5 = np.random.randn()\n",
        "    self.w6 = np.random.randn()\n",
        "    self.w7 = np.random.randn()\n",
        "    self.w8 = np.random.randn()\n",
        "    self.w9 = np.random.randn()\n",
        "    self.w10 = np.random.randn()\n",
        "    self.w11 = np.random.randn()\n",
        "    self.w12 = np.random.randn()\n",
        "    self.b1 = 0\n",
        "    self.b2 = 0\n",
        "    self.b3 = 0\n",
        "    self.b4 = 0\n",
        "    self.b5 = 0\n",
        "    self.b6 = 0\n",
        "  \n",
        "  def sigmoid(self, x):\n",
        "    return 1.0/(1.0 + np.exp(-x))\n",
        "  \n",
        "  def forward_pass(self, x):\n",
        "    # input layer\n",
        "    self.x1, self.x2 = x\n",
        "    \n",
        "    # hidden layer\n",
        "    self.a1 = self.w1*self.x1 + self.w2*self.x2 + self.b1\n",
        "    self.h1 = self.sigmoid(self.a1)\n",
        "    self.a2 = self.w3*self.x1 + self.w4*self.x2 + self.b2\n",
        "    self.h2 = self.sigmoid(self.a2)\n",
        "    \n",
        "    # output layer\n",
        "    self.a3 = self.w5*self.h1 + self.w6*self.h2 + self.b3\n",
        "    self.a4 = self.w7*self.h1 + self.w8*self.h2 + self.b4\n",
        "    self.a5 = self.w9*self.h1 + self.w10*self.h2 + self.b5\n",
        "    self.a6 = self.w11*self.h1 + self.w12*self.h2 + self.b5\n",
        "    sum_exps = np.sum([np.exp(self.a3), np.exp(self.a4), np.exp(self.a5), np.exp(self.a6)])\n",
        "    self.h3 = np.exp(self.a3)/sum_exps\n",
        "    self.h4 = np.exp(self.a4)/sum_exps\n",
        "    self.h5 = np.exp(self.a5)/sum_exps\n",
        "    self.h6 = np.exp(self.a6)/sum_exps\n",
        "    \n",
        "    return np.array([self.h3, self.h4, self.h5, self.h6])\n",
        "  \n",
        "  def grad(self, x, y):\n",
        "    self.forward_pass(x)\n",
        "    self.y1, self.y2, self.y3, self.y4 = y\n",
        "    \n",
        "    self.dw5 = (self.h3-self.y1) * self.h1 \n",
        "    self.dw6 = (self.h3-self.y1) * self.h2\n",
        "    self.db3 = (self.h3-self.y1)\n",
        "                    \n",
        "    self.dw7 = (self.h4-self.y2) * self.h1\n",
        "    self.dw8 = (self.h4-self.y2) * self.h2\n",
        "    self.db4 = (self.h4-self.y2)\n",
        "    \n",
        "    self.dw9 = (self.h5-self.y3) * self.h1\n",
        "    self.dw10 = (self.h5-self.y3) * self.h2\n",
        "    self.db5 = (self.h5-self.y3)\n",
        "    \n",
        "    self.dw11 = (self.h6-self.y4) * self.h1\n",
        "    self.dw12 = (self.h6-self.y4) * self.h2\n",
        "    self.db6 = (self.h6-self.y4)\n",
        "                    \n",
        "    self.dh1 = (self.h3-self.y1)*self.w5 + (self.h4-self.y2)*self.w7 + (self.h5-self.y3)*self.w9 + (self.h6-self.y4)*self.w11\n",
        "    self.dw1 = self.dh1 * self.h1*(1-self.h1) * self.x1\n",
        "    self.dw2 = self.dh1 * self.h1*(1-self.h1) * self.x2\n",
        "    self.db1 = self.dh1 * self.h1*(1-self.h1)\n",
        "                    \n",
        "    self.dh2 = (self.h3-self.y1)*self.w6 + (self.h4-self.y2)*self.w8 + (self.h5-self.y3)*self.w10 + (self.h6-self.y4)*self.w12\n",
        "    self.dw3 = self.dh2 * self.h2*(1-self.h2) * self.x1\n",
        "    self.dw4 = self.dh2 * self.h2*(1-self.h2) * self.x2\n",
        "    self.db2 = self.dh2 * self.h2*(1-self.h2)\n",
        "    \n",
        "  def grad_short(self, x, y):\n",
        "    self.forward_pass(x)\n",
        "    self.y1, self.y2, self.y3, self.y4 = y\n",
        "    \n",
        "    self.da3 = (self.h3-self.y1)\n",
        "    self.da4 = (self.h4-self.y2)\n",
        "    self.da5 = (self.h5-self.y3)\n",
        "    self.da6 = (self.h6-self.y4)\n",
        "    \n",
        "    self.dw5 = self.da3*self.h1\n",
        "    self.dw6 = self.da3*self.h2\n",
        "    self.db3 = self.da3\n",
        "    \n",
        "    self.dw7 = self.da4*self.h1\n",
        "    self.dw8 = self.da4*self.h2\n",
        "    self.db3 = self.da4\n",
        "    \n",
        "    self.dw9 = self.da5*self.h1\n",
        "    self.dw10 = self.da5*self.h2\n",
        "    self.db3 = self.da5\n",
        "    \n",
        "    self.dw11 = self.da6*self.h1\n",
        "    self.dw12 = self.da6*self.h2\n",
        "    self.db3 = self.da6\n",
        "    \n",
        "    self.dh1 = self.da3*self.w5 + self.da4*self.w7 + self.da5*self.w9 + self.da6*self.w11\n",
        "    self.dh2 = self.da3*self.w6 + self.da4*self.w8 + self.da5*self.w10 + self.da6*self.w12\n",
        "    \n",
        "    self.da1 = self.dh1 * self.h1*(1-self.h1)\n",
        "    self.da2 = self.dh2 * self.h2*(1-self.h2)\n",
        "    \n",
        "    self.dw1 = self.da1*self.x1\n",
        "    self.dw2 = self.da1*self.x2\n",
        "    self.db1 = self.da1\n",
        "    \n",
        "    self.dw3 = self.da2*self.x1\n",
        "    self.dw4 = self.da2*self.x2\n",
        "    self.db2 = self.da2\n",
        "    \n",
        "  \n",
        "  def fit(self, X, Y, epochs=1, learning_rate=1, display_loss=False, display_weight=False):\n",
        "      \n",
        "    if display_loss:\n",
        "      loss = {}\n",
        "    \n",
        "    for i in tqdm_notebook(range(epochs), total=epochs, unit=\"epoch\"):\n",
        "      dw1, dw2, dw3, dw4, dw5, dw6, dw7, dw8, dw9, dw10, dw11, dw12, db1, db2, db3, db4, db5, db6  = [0]*18\n",
        "      for x, y in zip(X, Y):\n",
        "        self.grad(x, y)\n",
        "        dw1 += self.dw1\n",
        "        dw2 += self.dw2\n",
        "        dw3 += self.dw3\n",
        "        dw4 += self.dw4\n",
        "        dw5 += self.dw5\n",
        "        dw6 += self.dw6\n",
        "        dw7 += self.dw7\n",
        "        dw8 += self.dw8\n",
        "        dw9 += self.dw9\n",
        "        dw10 += self.dw10\n",
        "        dw11 += self.dw11\n",
        "        dw12 += self.dw12\n",
        "        db1 += self.db1\n",
        "        db2 += self.db2\n",
        "        db3 += self.db3\n",
        "        db1 += self.db4\n",
        "        db2 += self.db5\n",
        "        db3 += self.db6\n",
        "        \n",
        "      m = X.shape[0]\n",
        "      self.w1 -= learning_rate * dw1 / m\n",
        "      self.w2 -= learning_rate * dw2 / m\n",
        "      self.w3 -= learning_rate * dw3 / m\n",
        "      self.w4 -= learning_rate * dw4 / m\n",
        "      self.w5 -= learning_rate * dw5 / m\n",
        "      self.w6 -= learning_rate * dw6 / m\n",
        "      self.w7 -= learning_rate * dw7 / m\n",
        "      self.w8 -= learning_rate * dw8 / m\n",
        "      self.w9 -= learning_rate * dw9 / m\n",
        "      self.w10 -= learning_rate * dw10 / m\n",
        "      self.w11 -= learning_rate * dw11 / m\n",
        "      self.w12 -= learning_rate * dw12 / m\n",
        "      self.b1 -= learning_rate * db1 / m\n",
        "      self.b2 -= learning_rate * db2 / m\n",
        "      self.b3 -= learning_rate * db3 / m\n",
        "      self.b4 -= learning_rate * db4 / m\n",
        "      self.b5 -= learning_rate * db5 / m\n",
        "      self.b6 -= learning_rate * db6 / m\n",
        "      \n",
        "      if display_loss:\n",
        "        Y_pred = self.predict(X)\n",
        "        loss[i] = log_loss(np.argmax(Y, axis=1), Y_pred)\n",
        "        \n",
        "      if display_weight:\n",
        "        weight_matrix = np.array([[self.b3, self.w5, self.w6, \n",
        "                                   self.b4, self.w7, self.w8, \n",
        "                                   self.b5, self.w9, self.w10, \n",
        "                                   self.b6, self.w11, self.w12], \n",
        "                                  [0, 0, 0,\n",
        "                                   self.b1, self.w1, self.w2,\n",
        "                                   self.b2, self.w3, self.w4, \n",
        "                                   0, 0, 0]])\n",
        "        weight_matrices.append(weight_matrix)\n",
        "    loss_values_list = list(loss.values())\n",
        "    if display_loss:\n",
        "      plt.plot(loss_values_list)\n",
        "      plt.xlabel('Epochs')\n",
        "      plt.ylabel('Log Loss')\n",
        "      plt.show()\n",
        "      \n",
        "  def predict(self, X):\n",
        "    Y_pred = []\n",
        "    for x in X:\n",
        "      y_pred = self.forward_pass(x)\n",
        "      Y_pred.append(y_pred)\n",
        "    return np.array(Y_pred)"
      ],
      "execution_count": 0,
      "outputs": []
    },
    {
      "cell_type": "code",
      "metadata": {
        "id": "4eAcCiV6N_F5",
        "colab_type": "code",
        "colab": {
          "base_uri": "https://localhost:8080/",
          "height": 365,
          "referenced_widgets": [
            "f4b208fe4cfe49e5b5c49cf6e9e38ddd",
            "6099f5b53a3a440fbaea15ecc254256a",
            "2a84bf638523485f95fd389515b3753b",
            "87f8c93c96094b06832c2a1fb584d473",
            "5a510f6cb03d44b38f4daf6ad541738d",
            "796c356241aa46398c1b174b2b2648a6",
            "fd6ebf06f3f44b0897da8133912c1bda",
            "d3d425cfdc54433d947c900bea0b0a7b"
          ]
        },
        "outputId": "3dfdb731-7968-49e1-8011-c74001114001"
      },
      "source": [
        "## Training ##\n",
        "## Defining a global variable \"weight_matrices\" for string the updated weights & Bias after each epoch\n",
        "\n",
        "weight_matrices = []\n",
        "ffsn_multi_specific = FFSN_MultiClass_Specific()\n",
        "ffsn_multi_specific.fit(X_train,Y_OH_train,epochs=4000,learning_rate=0.05,display_loss=True, display_weight=True)"
      ],
      "execution_count": 19,
      "outputs": [
        {
          "output_type": "stream",
          "text": [
            "/usr/local/lib/python3.6/dist-packages/ipykernel_launcher.py:125: TqdmDeprecationWarning: This function will be removed in tqdm==5.0.0\n",
            "Please use `tqdm.notebook.tqdm` instead of `tqdm.tqdm_notebook`\n"
          ],
          "name": "stderr"
        },
        {
          "output_type": "display_data",
          "data": {
            "application/vnd.jupyter.widget-view+json": {
              "model_id": "f4b208fe4cfe49e5b5c49cf6e9e38ddd",
              "version_minor": 0,
              "version_major": 2
            },
            "text/plain": [
              "HBox(children=(IntProgress(value=0, max=4000), HTML(value='')))"
            ]
          },
          "metadata": {
            "tags": []
          }
        },
        {
          "output_type": "stream",
          "text": [
            "\n"
          ],
          "name": "stdout"
        },
        {
          "output_type": "display_data",
          "data": {
            "image/png": "[encoded data removed]",
            "text/plain": [
              "<Figure size 432x288 with 1 Axes>"
            ]
          },
          "metadata": {
            "tags": []
          }
        }
      ]
    },
    {
      "cell_type": "markdown",
      "metadata": {
        "id": "JtmuyK3FdTs1",
        "colab_type": "text"
      },
      "source": [
        "# POST ANALYSIS - Heat Map #"
      ]
    },
    {
      "cell_type": "code",
      "metadata": {
        "id": "AzKxbSFtKBSI",
        "colab_type": "code",
        "colab": {}
      },
      "source": [
        "my_cmap1 = matplotlib.colors.LinearSegmentedColormap.from_list(\"\",[\"red\",\"green\",\"blue\"])\n"
      ],
      "execution_count": 0,
      "outputs": []
    },
    {
      "cell_type": "code",
      "metadata": {
        "id": "ikaEAntNfk1F",
        "colab_type": "code",
        "colab": {}
      },
      "source": [
        "def heat_map(epoch):\n",
        "  fig = plt.figure(figsize=(10,1))\n",
        "  sns.heatmap(weight_matrices[epoch],vmin=-1,vmax=3,cmap=my_cmap1,linewidths=1,annot=True)\n",
        "  plt.title(\"Epoch\"+str(epoch))\n",
        "  fig.canvas.draw()\n",
        "  image = np.frombuffer(fig.canvas.tostring_rgb(), dtype='uint8')\n",
        "  image = image.reshape(fig.canvas.get_width_height()[::-1] + (3,))\n",
        "\n",
        "  return image"
      ],
      "execution_count": 0,
      "outputs": []
    },
    {
      "cell_type": "code",
      "metadata": {
        "id": "rtj2HAzHdTXQ",
        "colab_type": "code",
        "colab": {}
      },
      "source": [
        "imageio.mimsave('./weights_for_MultiClass_classify.gif',[heat_map(i) for i in range(0,len(weight_matrices),len(weight_matrices)//50)],fps=1)"
      ],
      "execution_count": 0,
      "outputs": []
    },
    {
      "cell_type": "code",
      "metadata": {
        "id": "owclNEis_ct2",
        "colab_type": "code",
        "colab": {}
      },
      "source": [
        "fig = plt.figure(figsize=(10,10))\n",
        "for i in range(5):\n",
        "  x = np.linspace(i,i+2,10)\n",
        "  y = x**2\n",
        "  # plt.plot(x,y,\"*\")\n",
        "  # fig.canvas.draw()\n",
        "  # image = np.frombuffer(fig.canvas.tostring_rgb(), dtype='uint8')\n",
        "  # image = image.reshape(fig.canvas.get_width_height()[::-1] + (3,))\n",
        "  # print(image.shape)\n",
        "  # time.sleep(5)\n",
        "  # plt.show()"
      ],
      "execution_count": 0,
      "outputs": []
    },
    {
      "cell_type": "code",
      "metadata": {
        "id": "Q-NZWozmFZqf",
        "colab_type": "code",
        "colab": {
          "base_uri": "https://localhost:8080/",
          "height": 35
        },
        "outputId": "d4e63fa9-f4f2-48ec-d472-2e44a20e26f8"
      },
      "source": [
        "## Testing Accuracy ##\n",
        "Y_pred_train = ffsn_multi_specific.predict(X_train)\n",
        "#print(Y_pred_train[100:120])\n",
        "Y_pred_train = np.argmax(Y_pred_train,1)\n",
        "#print(Y_pred_train)\n",
        "\n",
        "accuracy_train = accuracy_score(Y_pred_train, Y_train)\n",
        "print(accuracy_train)"
      ],
      "execution_count": 18,
      "outputs": [
        {
          "output_type": "stream",
          "text": [
            "0.512\n"
          ],
          "name": "stdout"
        }
      ]
    },
    {
      "cell_type": "code",
      "metadata": {
        "id": "c2lnmzWpZs27",
        "colab_type": "code",
        "colab": {}
      },
      "source": [
        "np.c_[np.array([1,2,3,4]),np.array([5,6,7,8])]\n",
        "np.c_[np.array([0,0,0]),np.array([1,2,3])]\n",
        "#c = np.c_[a]\n",
        "#print(c)"
      ],
      "execution_count": 0,
      "outputs": []
    },
    {
      "cell_type": "code",
      "metadata": {
        "id": "8n1hpkoXggzQ",
        "colab_type": "code",
        "colab": {}
      },
      "source": [
        "def  make_meshgrid(*args,h=.2):\n",
        "  temp_list = []\n",
        "  for arg in args:\n",
        "    x_min,x_max = arg.min() - 0.5, arg.max() + 0.5\n",
        "    temp_list.append((x_min,x_max))\n",
        "  print(temp_list)\n",
        "\n",
        "  temp_dict = {}\n",
        "  for ind,each_min_max in enumerate(temp_list):\n",
        "    temp_dict[ind] = np.arange(each_min_max[0],each_min_max[1],h).ravel()\n",
        "  \n",
        "  #print(temp_dict)\n",
        "  all_xs = list(temp_dict.values())\n",
        "  ssup = np.meshgrid(all_xs)\n",
        "  return ssup\n",
        " \n",
        "# def plot_contour(meshed_grids):\n",
        "#   print(np.c_[meshed_grids].T)\n",
        "#   0/0\n",
        "\n",
        "ret = make_meshgrid(X_train[:,0],X_train[:,1])\n",
        "print(ret)\n",
        "#plot_contour(ret)\n",
        "\n",
        "\n"
      ],
      "execution_count": 0,
      "outputs": []
    },
    {
      "cell_type": "code",
      "metadata": {
        "id": "QSzv-SG31_zA",
        "colab_type": "code",
        "colab": {}
      },
      "source": [
        "a = [np.array([1,2,3,4]),np.array([1,2,3,4]),np.array([1,2,3,4])]\n",
        "print(a)\n",
        "np.c_[a].T"
      ],
      "execution_count": 0,
      "outputs": []
    },
    {
      "cell_type": "code",
      "metadata": {
        "id": "OYbbtdDn-Qyf",
        "colab_type": "code",
        "colab": {}
      },
      "source": [
        "np.c_[np.array([1,2,3,4]),np.array([1,2,3,4]),np.array([1,2,3,4])]\n",
        "#print(a.shape)"
      ],
      "execution_count": 0,
      "outputs": []
    },
    {
      "cell_type": "code",
      "metadata": {
        "id": "1bkhW-d_lt0h",
        "colab_type": "code",
        "colab": {
          "base_uri": "https://localhost:8080/",
          "height": 108
        },
        "outputId": "8941f2b3-cedb-45cc-baad-efab8b35f577"
      },
      "source": [
        "a = np.random.rand(3,3)\n",
        "print(a)\n",
        "b = np.sum(a,axis = 0)\n",
        "print(b.shape)\n",
        "c= b.reshape(-1,1)\n",
        "print(c.shape)"
      ],
      "execution_count": 26,
      "outputs": [
        {
          "output_type": "stream",
          "text": [
            "[[0.35825307 0.98146454 0.74309366]\n",
            " [0.5580067  0.42750342 0.1131698 ]\n",
            " [0.07694076 0.90167799 0.06786783]]\n",
            "(3,)\n",
            "(3, 1)\n"
          ],
          "name": "stdout"
        }
      ]
    },
    {
      "cell_type": "markdown",
      "metadata": {
        "id": "OuK5rf2oV2me",
        "colab_type": "text"
      },
      "source": [
        "# FFNN _ VECTORIZATION"
      ]
    },
    {
      "cell_type": "code",
      "metadata": {
        "id": "U1K8Z1MmuAs1",
        "colab_type": "code",
        "colab": {}
      },
      "source": [
        "W1 = np.random.randn(2,2)\n",
        "W2 = np.random.randn(2,4)"
      ],
      "execution_count": 0,
      "outputs": []
    },
    {
      "cell_type": "code",
      "metadata": {
        "id": "k9AkwoA4V6NC",
        "colab_type": "code",
        "colab": {}
      },
      "source": [
        "class FF_MultiClass_Vectorized:\n",
        "  def __init__(self,W1,W2):\n",
        "    self.W1 = W1.copy()\n",
        "    self.W2 = W2.copy()\n",
        "    self.B1 = np.zeros((1,2))\n",
        "    self.B2 = np.zeros((1,4))\n",
        "  \n",
        "  def sigmoid(self,x):\n",
        "    return 1.0/(1.0+np.exp(-x))\n",
        "\n",
        "  def softmax(self,x):\n",
        "    exps = np.exp(x)\n",
        "    return exps/np.sum(exps,axis=1).reshape(-1,1)\n",
        "  \n",
        "  def forward_pass(self,X):\n",
        "    self.A1 = np.matmul(X,self.W1) + self.B1    # (N,2) * (2,2) ->(1,2) -> (N,2)\n",
        "    self.H1 = self.sigmoid(self.A1)   # (N,2)\n",
        "\n",
        "    self.A2 = np.matmul(self.H1,self.W2) + self.B2  # (N,2) * (2,4) -> (N,4)\n",
        "    self.H2 = self.softmax(self.A2)   # (N,4)\n",
        "    return self.H2\n",
        "\n",
        "  def grad_sigmoid(self,X):\n",
        "    return X*(1-X)\n",
        "\n",
        "\n",
        "  def grad(self,X,Y):\n",
        "    self.forward_pass(X)\n",
        "\n",
        "    self.dA2 = self.H2-Y # (N,4) - (N,4) -> (N,4)\n",
        "\n",
        "    self.dW2 = np.matmul(self.H1.T,self.dA2) # (2,N)*(N,4)->(2,4)\n",
        "    self.dB2 = np.sum(self.dA2,axis=0).reshape(1,-1) # (1,4)\n",
        "\n",
        "    self.dH1 = np.matmul(self.dA2,self.W2.T)  # (N,4),(4,2) ->(N,2) \n",
        "    self.dA1 = np.multiply(self.dH1,self.grad_sigmoid(self.H1)) # (N,2)*(N*2)->(N,2) [Element-wise]\n",
        "\n",
        "    self.dW1 = np.matmul(X.T,self.dA1)  # (2,N)*(N,2) ->(2,2)\n",
        "    self.dB1 = np.sum(self.dA1,axis =0).reshape(1,-1) # (1,2)\n",
        "\n",
        "\n",
        "  def fit(self, X, Y, epochs=1, learning_rate=1, display_loss=False, display_weight=False):\n",
        "      \n",
        "    if display_loss:\n",
        "      loss = {}\n",
        "    \n",
        "    for i in tqdm_notebook(range(epochs), total=epochs, unit=\"epoch\"):\n",
        "      self.grad(X,Y)\n",
        "      m = X.shape[0]\n",
        "      self.W1 -= learning_rate * (self.dW1 / m)\n",
        "      self.W2 -= learning_rate * (self.dW2 / m)\n",
        "      self.B1 -= learning_rate * (self.dB1 / m)\n",
        "      self.B2 -= learning_rate * (self.dB2 / m)\n",
        "      \n",
        "      # print(\"Epoch\",i)\n",
        "      # print(\"self.W1\",self.W1)\n",
        "      # print(\"self.W2\",self.W2)\n",
        "      # print(\"self.B1\",self.B1)\n",
        "      # print(\"self.B2\",self.B2)\n",
        "      # print(\"*\"*100)\n",
        "\n",
        "      if display_loss:\n",
        "        Y_pred = self.predict(X)\n",
        "        loss[i] = log_loss(np.argmax(Y, axis=1), Y_pred)\n",
        "        \n",
        "      if display_weight:\n",
        "        weight_matrix = np.array([[self.b3, self.w5, self.w6, \n",
        "                                   self.b4, self.w7, self.w8, \n",
        "                                   self.b5, self.w9, self.w10, \n",
        "                                   self.b6, self.w11, self.w12], \n",
        "                                  [0, 0, 0,\n",
        "                                   self.b1, self.w1, self.w2,\n",
        "                                   self.b2, self.w3, self.w4, \n",
        "                                   0, 0, 0]])\n",
        "        weight_matrices.append(weight_matrix)\n",
        "\n",
        "    loss_val_list = list(loss.values())\n",
        "    if display_loss:\n",
        "      plt.plot(loss_val_list)\n",
        "      plt.xlabel('Epochs')\n",
        "      plt.ylabel('Log Loss')\n",
        "      plt.show()\n",
        "      \n",
        "  def predict(self, X):\n",
        "    Y_pred = self.forward_pass(X)\n",
        "    return np.array(Y_pred).squeeze()"
      ],
      "execution_count": 0,
      "outputs": []
    },
    {
      "cell_type": "markdown",
      "metadata": {
        "id": "OEzNRiAYtnG3",
        "colab_type": "text"
      },
      "source": [
        "# TRAINING "
      ]
    },
    {
      "cell_type": "code",
      "metadata": {
        "id": "Bb7OUnCHtq83",
        "colab_type": "code",
        "colab": {
          "base_uri": "https://localhost:8080/",
          "height": 365,
          "referenced_widgets": [
            "72dd65992a154c9cbb1c14e3dbc82117",
            "34756a29ce4e4af982cd4873bfcdd60d",
            "dbf0ca4b630649f79373e2e4e6c87dd1",
            "cb6e6b6e8ab34b7885a043fc811a0e81",
            "33d02a4027ca4af19ca0f77030d47388",
            "4e2eee039a4d4e0897c3fd98384f3968",
            "8de2656dff9843f0b4e3a24150b17817",
            "b0af4362a2144291aa39df1a794ff4ff"
          ]
        },
        "outputId": "0f2586c8-f86f-4040-a2d6-115b6de2b9bd"
      },
      "source": [
        "obj = FF_MultiClass_Vectorized(W1,W2)\n",
        "obj.fit(X_train,Y_OH_train,epochs=2000,learning_rate=0.1,display_loss=True,display_weight=False)"
      ],
      "execution_count": 71,
      "outputs": [
        {
          "output_type": "stream",
          "text": [
            "/usr/local/lib/python3.6/dist-packages/ipykernel_launcher.py:47: TqdmDeprecationWarning: This function will be removed in tqdm==5.0.0\n",
            "Please use `tqdm.notebook.tqdm` instead of `tqdm.tqdm_notebook`\n"
          ],
          "name": "stderr"
        },
        {
          "output_type": "display_data",
          "data": {
            "application/vnd.jupyter.widget-view+json": {
              "model_id": "72dd65992a154c9cbb1c14e3dbc82117",
              "version_minor": 0,
              "version_major": 2
            },
            "text/plain": [
              "HBox(children=(IntProgress(value=0, max=2000), HTML(value='')))"
            ]
          },
          "metadata": {
            "tags": []
          }
        },
        {
          "output_type": "stream",
          "text": [
            "\n"
          ],
          "name": "stdout"
        },
        {
          "output_type": "display_data",
          "data": {
            "image/png": "[encoded data removed]",
            "text/plain": [
              "<Figure size 432x288 with 1 Axes>"
            ]
          },
          "metadata": {
            "tags": []
          }
        }
      ]
    },
    {
      "cell_type": "markdown",
      "metadata": {
        "id": "u5fpsqCX8-m0",
        "colab_type": "text"
      },
      "source": [
        "# Testing"
      ]
    },
    {
      "cell_type": "code",
      "metadata": {
        "id": "lneInfx-83bP",
        "colab_type": "code",
        "colab": {
          "base_uri": "https://localhost:8080/",
          "height": 54
        },
        "outputId": "6ba5ffbd-d66d-4345-e3ca-c2d237c0e94f"
      },
      "source": [
        "Y_pred_train = obj.predict(X_train)\n",
        "Y_pred_vals_train = np.argmax(Y_pred_train,axis=1)\n",
        "\n",
        "Y_pred_test = obj.predict(X_test)\n",
        "Y_pred_vals_test = np.argmax(Y_pred_test,axis=1)\n",
        "\n",
        "train_accuracy = accuracy_score(Y_pred_vals_train,Y_train)\n",
        "test_accuracy = accuracy_score(Y_pred_vals_test,Y_test)\n",
        "\n",
        "print(\"train_accuracy\",train_accuracy)\n",
        "print(\"test accuracy\",test_accuracy)"
      ],
      "execution_count": 72,
      "outputs": [
        {
          "output_type": "stream",
          "text": [
            "train_accuracy 0.78\n",
            "test accuracy 0.78\n"
          ],
          "name": "stdout"
        }
      ]
    },
    {
      "cell_type": "code",
      "metadata": {
        "id": "Xn0PFvqmAdCN",
        "colab_type": "code",
        "colab": {}
      },
      "source": [
        "my_cmap2 = matplotlib.colors.LinearSegmentedColormap.from_list(\"\", [\"red\",\"yellow\",\"green\",\"cyan\"])"
      ],
      "execution_count": 0,
      "outputs": []
    },
    {
      "cell_type": "code",
      "metadata": {
        "id": "S01-1P-M_Nz9",
        "colab_type": "code",
        "colab": {
          "base_uri": "https://localhost:8080/",
          "height": 268
        },
        "outputId": "34d397bf-2b4d-4c72-f54f-5085a22f7ef8"
      },
      "source": [
        "plt.scatter(X_train[:,0], X_train[:,1], c=Y_train, cmap=my_cmap2, s=15*(np.abs(np.sign(Y_pred_vals_train-Y_train))+.1))\n",
        "plt.show()"
      ],
      "execution_count": 77,
      "outputs": [
        {
          "output_type": "display_data",
          "data": {
            "image/png": "[encoded data removed]",
            "text/plain": [
              "<Figure size 432x288 with 1 Axes>"
            ]
          },
          "metadata": {
            "tags": []
          }
        }
      ]
    },
    {
      "cell_type": "code",
      "metadata": {
        "id": "B-Cq-sN4Yv1-",
        "colab_type": "code",
        "colab": {}
      },
      "source": [
        "a = np.array([1,2,3,4])\n",
        "exps = np.exp(a)\n",
        "print(exps)\n",
        "summ = np.sum(exps,axis=0)\n",
        "print(summ)\n",
        "ret = exps/summ\n",
        "print(ret)\n",
        "ret = ret.reshape(1,-1)\n",
        "print(ret.shape)\n",
        "0/0\n",
        "ret = obj.softmax(a)\n",
        "ret = ret.reshape(1,-1)\n",
        "print(ret.shape)\n"
      ],
      "execution_count": 0,
      "outputs": []
    }
  ]
}