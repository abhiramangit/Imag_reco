{
  "nbformat": 4,
  "nbformat_minor": 0,
  "metadata": {
    "colab": {
      "name": "Binary_Classification_Assignment.ipynb",
      "provenance": [],
      "collapsed_sections": [],
      "authorship_tag": "ABX9TyOTakPoeBAVx3vKpaYbrEmM",
      "include_colab_link": true
    },
    "kernelspec": {
      "name": "python3",
      "display_name": "Python 3"
    },
    "widgets": {
      "application/vnd.jupyter.widget-state+json": {
        "b890f48b7e684d148465c791423ed3c7": {
          "model_module": "@jupyter-widgets/controls",
          "model_name": "HBoxModel",
          "state": {
            "_view_name": "HBoxView",
            "_dom_classes": [],
            "_model_name": "HBoxModel",
            "_view_module": "@jupyter-widgets/controls",
            "_model_module_version": "1.5.0",
            "_view_count": null,
            "_view_module_version": "1.5.0",
            "box_style": "",
            "layout": "IPY_MODEL_795d6271b3cc4fff8b3c3e3695cdc2d9",
            "_model_module": "@jupyter-widgets/controls",
            "children": [
              "IPY_MODEL_9b514468957a4c2382108e5ac7f3de97",
              "IPY_MODEL_5585996aeb5142a7b53b2e2aad749cbd"
            ]
          }
        },
        "795d6271b3cc4fff8b3c3e3695cdc2d9": {
          "model_module": "@jupyter-widgets/base",
          "model_name": "LayoutModel",
          "state": {
            "_view_name": "LayoutView",
            "grid_template_rows": null,
            "right": null,
            "justify_content": null,
            "_view_module": "@jupyter-widgets/base",
            "overflow": null,
            "_model_module_version": "1.2.0",
            "_view_count": null,
            "flex_flow": null,
            "width": null,
            "min_width": null,
            "border": null,
            "align_items": null,
            "bottom": null,
            "_model_module": "@jupyter-widgets/base",
            "top": null,
            "grid_column": null,
            "overflow_y": null,
            "overflow_x": null,
            "grid_auto_flow": null,
            "grid_area": null,
            "grid_template_columns": null,
            "flex": null,
            "_model_name": "LayoutModel",
            "justify_items": null,
            "grid_row": null,
            "max_height": null,
            "align_content": null,
            "visibility": null,
            "align_self": null,
            "height": null,
            "min_height": null,
            "padding": null,
            "grid_auto_rows": null,
            "grid_gap": null,
            "max_width": null,
            "order": null,
            "_view_module_version": "1.2.0",
            "grid_template_areas": null,
            "object_position": null,
            "object_fit": null,
            "grid_auto_columns": null,
            "margin": null,
            "display": null,
            "left": null
          }
        },
        "9b514468957a4c2382108e5ac7f3de97": {
          "model_module": "@jupyter-widgets/controls",
          "model_name": "IntProgressModel",
          "state": {
            "_view_name": "ProgressView",
            "style": "IPY_MODEL_3a9a8087f3d54c82807a32651ee550b9",
            "_dom_classes": [],
            "description": "100%",
            "_model_name": "IntProgressModel",
            "bar_style": "success",
            "max": 15000,
            "_view_module": "@jupyter-widgets/controls",
            "_model_module_version": "1.5.0",
            "value": 15000,
            "_view_count": null,
            "_view_module_version": "1.5.0",
            "orientation": "horizontal",
            "min": 0,
            "description_tooltip": null,
            "_model_module": "@jupyter-widgets/controls",
            "layout": "IPY_MODEL_4aa7a6f4ec4b4623bf82760a10f819c3"
          }
        },
        "5585996aeb5142a7b53b2e2aad749cbd": {
          "model_module": "@jupyter-widgets/controls",
          "model_name": "HTMLModel",
          "state": {
            "_view_name": "HTMLView",
            "style": "IPY_MODEL_5f7552f80ae34f2993a838520fe6c70c",
            "_dom_classes": [],
            "description": "",
            "_model_name": "HTMLModel",
            "placeholder": "​",
            "_view_module": "@jupyter-widgets/controls",
            "_model_module_version": "1.5.0",
            "value": " 15000/15000 [00:07&lt;00:00, 1987.06epoch/s]",
            "_view_count": null,
            "_view_module_version": "1.5.0",
            "description_tooltip": null,
            "_model_module": "@jupyter-widgets/controls",
            "layout": "IPY_MODEL_de923d9aa71947d88d163c13f79f6286"
          }
        },
        "3a9a8087f3d54c82807a32651ee550b9": {
          "model_module": "@jupyter-widgets/controls",
          "model_name": "ProgressStyleModel",
          "state": {
            "_view_name": "StyleView",
            "_model_name": "ProgressStyleModel",
            "description_width": "initial",
            "_view_module": "@jupyter-widgets/base",
            "_model_module_version": "1.5.0",
            "_view_count": null,
            "_view_module_version": "1.2.0",
            "bar_color": null,
            "_model_module": "@jupyter-widgets/controls"
          }
        },
        "4aa7a6f4ec4b4623bf82760a10f819c3": {
          "model_module": "@jupyter-widgets/base",
          "model_name": "LayoutModel",
          "state": {
            "_view_name": "LayoutView",
            "grid_template_rows": null,
            "right": null,
            "justify_content": null,
            "_view_module": "@jupyter-widgets/base",
            "overflow": null,
            "_model_module_version": "1.2.0",
            "_view_count": null,
            "flex_flow": null,
            "width": null,
            "min_width": null,
            "border": null,
            "align_items": null,
            "bottom": null,
            "_model_module": "@jupyter-widgets/base",
            "top": null,
            "grid_column": null,
            "overflow_y": null,
            "overflow_x": null,
            "grid_auto_flow": null,
            "grid_area": null,
            "grid_template_columns": null,
            "flex": null,
            "_model_name": "LayoutModel",
            "justify_items": null,
            "grid_row": null,
            "max_height": null,
            "align_content": null,
            "visibility": null,
            "align_self": null,
            "height": null,
            "min_height": null,
            "padding": null,
            "grid_auto_rows": null,
            "grid_gap": null,
            "max_width": null,
            "order": null,
            "_view_module_version": "1.2.0",
            "grid_template_areas": null,
            "object_position": null,
            "object_fit": null,
            "grid_auto_columns": null,
            "margin": null,
            "display": null,
            "left": null
          }
        },
        "5f7552f80ae34f2993a838520fe6c70c": {
          "model_module": "@jupyter-widgets/controls",
          "model_name": "DescriptionStyleModel",
          "state": {
            "_view_name": "StyleView",
            "_model_name": "DescriptionStyleModel",
            "description_width": "",
            "_view_module": "@jupyter-widgets/base",
            "_model_module_version": "1.5.0",
            "_view_count": null,
            "_view_module_version": "1.2.0",
            "_model_module": "@jupyter-widgets/controls"
          }
        },
        "de923d9aa71947d88d163c13f79f6286": {
          "model_module": "@jupyter-widgets/base",
          "model_name": "LayoutModel",
          "state": {
            "_view_name": "LayoutView",
            "grid_template_rows": null,
            "right": null,
            "justify_content": null,
            "_view_module": "@jupyter-widgets/base",
            "overflow": null,
            "_model_module_version": "1.2.0",
            "_view_count": null,
            "flex_flow": null,
            "width": null,
            "min_width": null,
            "border": null,
            "align_items": null,
            "bottom": null,
            "_model_module": "@jupyter-widgets/base",
            "top": null,
            "grid_column": null,
            "overflow_y": null,
            "overflow_x": null,
            "grid_auto_flow": null,
            "grid_area": null,
            "grid_template_columns": null,
            "flex": null,
            "_model_name": "LayoutModel",
            "justify_items": null,
            "grid_row": null,
            "max_height": null,
            "align_content": null,
            "visibility": null,
            "align_self": null,
            "height": null,
            "min_height": null,
            "padding": null,
            "grid_auto_rows": null,
            "grid_gap": null,
            "max_width": null,
            "order": null,
            "_view_module_version": "1.2.0",
            "grid_template_areas": null,
            "object_position": null,
            "object_fit": null,
            "grid_auto_columns": null,
            "margin": null,
            "display": null,
            "left": null
          }
        }
      }
    }
  },
  "cells": [
    {
      "cell_type": "markdown",
      "metadata": {
        "id": "view-in-github",
        "colab_type": "text"
      },
      "source": [
        "<a href=\"https://colab.research.google.com/github/abhiramangit/Imag_reco/blob/master/Binary_Classification_Assignment.ipynb\" target=\"_parent\"><img src=\"https://colab.research.google.com/assets/colab-badge.svg\" alt=\"Open In Colab\"/></a>"
      ]
    },
    {
      "cell_type": "code",
      "metadata": {
        "id": "pdTIp4n8pcRt",
        "colab_type": "code",
        "colab": {}
      },
      "source": [
        "import numpy as np\n",
        "from copy import copy\n",
        "from sklearn.datasets import make_blobs\n",
        "import matplotlib.pyplot as plt\n",
        "from matplotlib import colors\n",
        "from sklearn.model_selection import train_test_split\n",
        "from tqdm import tqdm_notebook \n",
        "from sklearn.metrics import accuracy_score,log_loss,mean_squared_error"
      ],
      "execution_count": 0,
      "outputs": []
    },
    {
      "cell_type": "code",
      "metadata": {
        "id": "r2mX3eAeuohB",
        "colab_type": "code",
        "colab": {}
      },
      "source": [
        "my_cmap = colors.LinearSegmentedColormap.from_list(\"\",[\"Red\",\"Green\"])"
      ],
      "execution_count": 0,
      "outputs": []
    },
    {
      "cell_type": "code",
      "metadata": {
        "id": "GHtkXruXt5x4",
        "colab_type": "code",
        "outputId": "ade985b1-46a7-4ae2-cdca-5129b29902d8",
        "colab": {
          "base_uri": "https://localhost:8080/",
          "height": 54
        }
      },
      "source": [
        "## Getting Binary Classification Data from make_blobs\n",
        "\n",
        "features,labels = make_blobs(1000,2,2,random_state=1)\n",
        "print(features.shape)\n",
        "print(labels.shape)"
      ],
      "execution_count": 3,
      "outputs": [
        {
          "output_type": "stream",
          "text": [
            "(1000, 2)\n",
            "(1000,)\n"
          ],
          "name": "stdout"
        }
      ]
    },
    {
      "cell_type": "code",
      "metadata": {
        "id": "Rn6U9HBducCg",
        "colab_type": "code",
        "outputId": "1773f52c-a529-4555-94d6-fe6b4b2ef6b1",
        "colab": {
          "base_uri": "https://localhost:8080/",
          "height": 265
        }
      },
      "source": [
        "plt.scatter(features[:,0],features[:,1],c = labels,cmap=my_cmap)\n",
        "plt.show()"
      ],
      "execution_count": 4,
      "outputs": [
        {
          "output_type": "display_data",
          "data": {
            "image/png": "[encoded data removed]",
            "text/plain": [
              "<Figure size 432x288 with 1 Axes>"
            ]
          },
          "metadata": {
            "tags": []
          }
        }
      ]
    },
    {
      "cell_type": "code",
      "metadata": {
        "id": "-_CtpKlxuPoi",
        "colab_type": "code",
        "outputId": "6e757313-a4c7-4c7e-988c-a7193a090680",
        "colab": {
          "base_uri": "https://localhost:8080/",
          "height": 35
        }
      },
      "source": [
        "## Split Test & Train Data \n",
        "X_train,X_test,Y_train,Y_test = train_test_split(features,labels,random_state=1)\n",
        "print(X_train.shape,Y_train.shape)"
      ],
      "execution_count": 5,
      "outputs": [
        {
          "output_type": "stream",
          "text": [
            "(750, 2) (750,)\n"
          ],
          "name": "stdout"
        }
      ]
    },
    {
      "cell_type": "code",
      "metadata": {
        "id": "lg-qlyXJwj70",
        "colab_type": "code",
        "colab": {}
      },
      "source": [
        "## Intializing Weights \n",
        "W1 = np.random.randn(2,2)\n",
        "W2 = np.random.randn(1,2)"
      ],
      "execution_count": 0,
      "outputs": []
    },
    {
      "cell_type": "code",
      "metadata": {
        "id": "M5ubb3LxspMv",
        "colab_type": "code",
        "colab": {}
      },
      "source": [
        "class Binary_Classification:\n",
        "  def __init__(self,W1,W2):\n",
        "    self.W1 = W1.copy() # (2,2)\n",
        "    self.W2 = W2.copy() # (1,2)\n",
        "    self.B1 = np.zeros((1,2))\n",
        "    self.B2 = np.zeros((1,1))\n",
        "\n",
        "  def sigmoid(self,X):\n",
        "    return 1.0/(1.0+np.exp(-X))\n",
        "\n",
        "  def grad_sigmoid(self,X):\n",
        "    return X*(1-X)\n",
        "  \n",
        "  def forward_pass(self,X,threshold =0.5):\n",
        "\n",
        "    self.A1 = np.matmul(X,self.W1) #(N,2)*(2,2) -> (N,2)\n",
        "    self.H1 = self.sigmoid(self.A1) # (N,2)\n",
        "\n",
        "    self.A2 = np.matmul(self.H1,self.W2.T) # (N,2)*(2,1) -> (N,1)\n",
        "    self.H2 = self.sigmoid(self.A2) #(N,1)\n",
        "\n",
        "    ## Setting Threshold \n",
        "    self.H2 = (self.H2>threshold).astype('int')\n",
        "    return self.H2\n",
        "\n",
        "  def grad(self,X,Y):\n",
        "    self.forward_pass(X)\n",
        "    Y = Y.reshape(-1,1)\n",
        "\n",
        "    self.dL = (self.H2-Y)  #(N,1)-(N,1) -> (N,1)\n",
        "    self.dA2 =  np.multiply(self.dL,self.grad_sigmoid(self.H2)) #(N,1)*(N,1) -> (N,1)\n",
        "\n",
        "\n",
        "    self.dW2 = np.matmul(self.dA2.T,self.H1)  # (1,N) *(N,2) -> (1,2)\n",
        "    self.dB2 = np.sum(self.dA2,axis=0).reshape(1,-1)\n",
        "\n",
        "\n",
        "    self.dH1 = np.matmul(self.dA2,self.W2) #(N,1)*(1,2) -> (N,2)\n",
        "    self.dA1 = np.multiply(self.dH1,self.grad_sigmoid(self.H1))  #(N,2) *(N,2) -> (N,2)\n",
        "\n",
        "    self.dW1 = np.matmul(X.T,self.dA1)  # (2,N)*(N,2) -> (2,2)\n",
        "    self.dB1 = np.sum(self.dA1,axis=0).reshape(1,-1)\n",
        "\n",
        "  def fit(self, X, Y, epochs=1, learning_rate=1, display_loss=False):\n",
        "      \n",
        "    if display_loss:\n",
        "      loss = {}\n",
        "    \n",
        "    for i in tqdm_notebook(range(epochs), total=epochs, unit=\"epoch\"):\n",
        "      self.grad(X,Y)\n",
        "      m = X.shape[0]\n",
        "      self.W1 -= learning_rate * (self.dW1 / m)\n",
        "      self.W2 -= learning_rate * (self.dW2 / m)\n",
        "      self.B1 -= learning_rate * (self.dB1 / m)\n",
        "      self.B2 -= learning_rate * (self.dB2 / m)\n",
        "      \n",
        "      # print(\"Epoch\",i)\n",
        "      # print(\"self.W1\",self.W1)\n",
        "      # print(\"self.W2\",self.W2)\n",
        "      # print(\"self.B1\",self.B1)\n",
        "      # print(\"self.B2\",self.B2)\n",
        "      # print(\"*\"*100)\n",
        "\n",
        "      if display_loss:\n",
        "        Y_pred = self.predict(X)\n",
        "        loss[i] =  mean_squared_error(Y,Y_pred)\n",
        "        \n",
        "      # if display_weight:\n",
        "      #   weight_matrix = np.array([[self.b3, self.w5, self.w6, \n",
        "      #                              self.b4, self.w7, self.w8, \n",
        "      #                              self.b5, self.w9, self.w10, \n",
        "      #                              self.b6, self.w11, self.w12], \n",
        "      #                             [0, 0, 0,\n",
        "      #                              self.b1, self.w1, self.w2,\n",
        "      #                              self.b2, self.w3, self.w4, \n",
        "      #                              0, 0, 0]])\n",
        "      #   weight_matrices.append(weight_matrix)\n",
        "\n",
        "    loss_val_list = list(loss.values())\n",
        "    if display_loss:\n",
        "      plt.plot(loss_val_list)\n",
        "      plt.xlabel('Epochs')\n",
        "      plt.ylabel('Mean Squared Error')\n",
        "      plt.show()\n",
        "      \n",
        "  def predict(self, X):\n",
        "    Y_pred = self.forward_pass(X)\n",
        "    return np.array(Y_pred).squeeze()\n",
        "\n",
        "\n",
        "\n",
        "\n",
        "\n"
      ],
      "execution_count": 0,
      "outputs": []
    },
    {
      "cell_type": "code",
      "metadata": {
        "id": "DHiJ19ZlwGVJ",
        "colab_type": "code",
        "outputId": "9572b604-3aa8-4532-b6bb-5adb93bf0561",
        "colab": {
          "base_uri": "https://localhost:8080/",
          "height": 365,
          "referenced_widgets": [
            "b890f48b7e684d148465c791423ed3c7",
            "795d6271b3cc4fff8b3c3e3695cdc2d9",
            "9b514468957a4c2382108e5ac7f3de97",
            "5585996aeb5142a7b53b2e2aad749cbd",
            "3a9a8087f3d54c82807a32651ee550b9",
            "4aa7a6f4ec4b4623bf82760a10f819c3",
            "5f7552f80ae34f2993a838520fe6c70c",
            "de923d9aa71947d88d163c13f79f6286"
          ]
        }
      },
      "source": [
        "## Training \n",
        "obj = Binary_Classification(W1,W2)\n",
        "obj.fit(X_train,Y_train,epochs=15000,learning_rate=0.01,display_loss=True)\n"
      ],
      "execution_count": 8,
      "outputs": [
        {
          "output_type": "stream",
          "text": [
            "/usr/local/lib/python3.6/dist-packages/ipykernel_launcher.py:49: TqdmDeprecationWarning: This function will be removed in tqdm==5.0.0\n",
            "Please use `tqdm.notebook.tqdm` instead of `tqdm.tqdm_notebook`\n"
          ],
          "name": "stderr"
        },
        {
          "output_type": "display_data",
          "data": {
            "application/vnd.jupyter.widget-view+json": {
              "model_id": "b890f48b7e684d148465c791423ed3c7",
              "version_minor": 0,
              "version_major": 2
            },
            "text/plain": [
              "HBox(children=(IntProgress(value=0, max=15000), HTML(value='')))"
            ]
          },
          "metadata": {
            "tags": []
          }
        },
        {
          "output_type": "stream",
          "text": [
            "\n"
          ],
          "name": "stdout"
        },
        {
          "output_type": "display_data",
          "data": {
            "image/png": "[encoded data removed]",
            "text/plain": [
              "<Figure size 432x288 with 1 Axes>"
            ]
          },
          "metadata": {
            "tags": []
          }
        }
      ]
    },
    {
      "cell_type": "code",
      "metadata": {
        "id": "Sqskn2DZ4xvW",
        "colab_type": "code",
        "outputId": "e6aaee7c-8b3f-45c4-e020-52d7777ea679",
        "colab": {
          "base_uri": "https://localhost:8080/",
          "height": 54
        }
      },
      "source": [
        "Y_pred_train = obj.predict(X_train)\n",
        "#Y_pred_vals_train = np.argmax(Y_pred_train,axis=1)\n",
        "\n",
        "Y_pred_test = obj.predict(X_test)\n",
        "#Y_pred_vals_test = np.argmax(Y_pred_test,axis=1)\n",
        "\n",
        "train_accuracy = accuracy_score(Y_pred_train,Y_train)\n",
        "test_accuracy = accuracy_score(Y_pred_test,Y_test)\n",
        "\n",
        "print(\"train_accuracy\",train_accuracy)\n",
        "print(\"test accuracy\",test_accuracy)"
      ],
      "execution_count": 9,
      "outputs": [
        {
          "output_type": "stream",
          "text": [
            "train_accuracy 0.9933333333333333\n",
            "test accuracy 1.0\n"
          ],
          "name": "stdout"
        }
      ]
    },
    {
      "cell_type": "code",
      "metadata": {
        "id": "imiLA_bW49VS",
        "colab_type": "code",
        "outputId": "fc1607cd-37a2-41b1-c45f-2f32a0a50c03",
        "colab": {
          "base_uri": "https://localhost:8080/",
          "height": 265
        }
      },
      "source": [
        "plt.scatter(X_train[:,0], X_train[:,1], c=Y_train, cmap=my_cmap, s=15*(np.abs(np.sign(Y_pred_train-Y_train))+.1))\n",
        "plt.show()"
      ],
      "execution_count": 10,
      "outputs": [
        {
          "output_type": "display_data",
          "data": {
            "image/png": "[encoded data removed]",
            "text/plain": [
              "<Figure size 432x288 with 1 Axes>"
            ]
          },
          "metadata": {
            "tags": []
          }
        }
      ]
    },
    {
      "cell_type": "code",
      "metadata": {
        "id": "6QahNUeFRF3G",
        "colab_type": "code",
        "outputId": "5eb4ca71-9a4c-4948-b252-62b0142e41bb",
        "colab": {
          "base_uri": "https://localhost:8080/",
          "height": 72
        }
      },
      "source": [
        "a = [np.array([2,3]),np.array([4,5])]\n",
        "b = [np.array([0,1]),np.array([1,0])]\n",
        "c = np.matmul(a,b)\n",
        "print(c)\n",
        "print(c.shape)"
      ],
      "execution_count": 11,
      "outputs": [
        {
          "output_type": "stream",
          "text": [
            "[[3 2]\n",
            " [5 4]]\n",
            "(2, 2)\n"
          ],
          "name": "stdout"
        }
      ]
    }
  ]
}